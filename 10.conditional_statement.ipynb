{
 "cells": [
  {
   "cell_type": "markdown",
   "id": "81217574",
   "metadata": {},
   "source": [
    "## CONDITIONAL STATEMENT\n",
    "- They are also called control flow or decision making statement.\n",
    "- we have to write condition in such a way that it will either true or false by using comparision, logical, membership and identity operators.\n",
    "1. if statement\n",
    "2. if-else statement\n",
    "3. elif statement\n",
    "4. if-elif-else statement\n",
    "5. nested if-else statement\n",
    "\n",
    "- block statement or block of code - are the line of code which is execute or ignored by python."
   ]
  },
  {
   "cell_type": "markdown",
   "id": "42012778",
   "metadata": {},
   "source": [
    "### **1. if statement**\n",
    "If the condition is true it will execute the block of code otherwise ignore it.\n",
    "\n",
    "*Syntax* - \n",
    "<pre>\n",
    "if condition:\n",
    "    block of code\n",
    "<pre>"
   ]
  },
  {
   "cell_type": "code",
   "execution_count": 2,
   "id": "16ba10ec",
   "metadata": {},
   "outputs": [
    {
     "name": "stdout",
     "output_type": "stream",
     "text": [
      "hello\n",
      "hello again\n"
     ]
    }
   ],
   "source": [
    "x=1\n",
    "if x>0:\n",
    "    print('hello')\n",
    "print ('hello again')"
   ]
  },
  {
   "cell_type": "code",
   "execution_count": 3,
   "id": "e8c60c12",
   "metadata": {},
   "outputs": [
    {
     "name": "stdout",
     "output_type": "stream",
     "text": [
      "evening\n"
     ]
    }
   ],
   "source": [
    "x=10\n",
    "if x>0 and x<10:\n",
    "    print('morning')\n",
    "print('evening')"
   ]
  },
  {
   "cell_type": "code",
   "execution_count": null,
   "id": "7210461d",
   "metadata": {},
   "outputs": [
    {
     "name": "stdout",
     "output_type": "stream",
     "text": [
      "hii\n"
     ]
    }
   ],
   "source": [
    "if 20+30:    # it will execute coz it automatically apply bool() which is in here True, thats why the block of code is executed.\n",
    "    print('hii')"
   ]
  },
  {
   "cell_type": "markdown",
   "id": "5b903783",
   "metadata": {},
   "source": [
    "### **2. if-else statement**\n",
    "If the condition is true it will execute if block otherwise else block is executed.\n",
    "\n",
    "*Syntax* -\n",
    "<pre>\n",
    "if condition:\n",
    "    block of code\n",
    "else:\n",
    "    block of code\n",
    "<pre>"
   ]
  },
  {
   "cell_type": "code",
   "execution_count": 5,
   "id": "962f453c",
   "metadata": {},
   "outputs": [
    {
     "name": "stdout",
     "output_type": "stream",
     "text": [
      "else block executed\n"
     ]
    }
   ],
   "source": [
    "if 2>3:\n",
    "    print('if block executed')\n",
    "else:\n",
    "    print('else block executed')"
   ]
  },
  {
   "cell_type": "markdown",
   "id": "7a2d1c69",
   "metadata": {},
   "source": [
    "### **3. elif statement and 4. if-elif-else statement**\n",
    "It is used for checking multiple conditions after an initial if condition.\n",
    "\n",
    "*Syntax* -\n",
    "<pre>\n",
    "if condition:\n",
    "    if block of code\n",
    "elif condition:\n",
    "    elif block of code\n",
    "else:\n",
    "    else block of code\n",
    "<pre>"
   ]
  },
  {
   "cell_type": "code",
   "execution_count": null,
   "id": "5dc8325e",
   "metadata": {},
   "outputs": [
    {
     "name": "stdout",
     "output_type": "stream",
     "text": [
      "need improvement\n"
     ]
    }
   ],
   "source": [
    "marks= eval(input(\"enter marks:\"))\n",
    "if marks>=90:\n",
    "    print('execllent')\n",
    "elif marks>=80:\n",
    "    print('very good')\n",
    "elif marks>=70:\n",
    "    print('good')\n",
    "else:                   # else is not mandatory always\n",
    "    print('need improvement')"
   ]
  },
  {
   "cell_type": "markdown",
   "id": "029eb03c",
   "metadata": {},
   "source": [
    "### **4. Nested if-else statement**\n",
    "*Syntax* -\n",
    "<pre>\n",
    "if condition:\n",
    "    if condition:\n",
    "        block of code\n",
    "    else:\n",
    "        block of code\n",
    "else:\n",
    "    block of code\n",
    "<pre>"
   ]
  },
  {
   "cell_type": "code",
   "execution_count": 4,
   "id": "9b40496c",
   "metadata": {},
   "outputs": [
    {
     "name": "stdout",
     "output_type": "stream",
     "text": [
      "negative\n"
     ]
    }
   ],
   "source": [
    "x=eval(input('enter number:'))\n",
    "if x>=0:\n",
    "    if x==0:\n",
    "        print(\"zero\")\n",
    "    else:\n",
    "        print(\"positive\")\n",
    "else:\n",
    "    print(\"negative\")"
   ]
  },
  {
   "cell_type": "code",
   "execution_count": 8,
   "id": "d84d577a",
   "metadata": {},
   "outputs": [
    {
     "name": "stdout",
     "output_type": "stream",
     "text": [
      "invalid pin\n"
     ]
    }
   ],
   "source": [
    "# ATM \n",
    "\n",
    "pin=123\n",
    "balance=10000\n",
    "n=eval(input(\"enter pin\"))\n",
    "if pin==n:\n",
    "    x=eval(input('enter amount'))\n",
    "    if x<balance:\n",
    "        amount=balance-x\n",
    "        print(\"transition of amount\", amount ,\"successful\")\n",
    "    else:\n",
    "        print(\"insufficient balance\")\n",
    "else:\n",
    "    print(\"invalid pin\")"
   ]
  }
 ],
 "metadata": {
  "kernelspec": {
   "display_name": "Python 3",
   "language": "python",
   "name": "python3"
  },
  "language_info": {
   "codemirror_mode": {
    "name": "ipython",
    "version": 3
   },
   "file_extension": ".py",
   "mimetype": "text/x-python",
   "name": "python",
   "nbconvert_exporter": "python",
   "pygments_lexer": "ipython3",
   "version": "3.10.16"
  }
 },
 "nbformat": 4,
 "nbformat_minor": 5
}
