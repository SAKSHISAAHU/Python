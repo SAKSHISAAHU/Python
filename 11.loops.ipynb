{
 "cells": [
  {
   "cell_type": "markdown",
   "id": "f113ac83",
   "metadata": {},
   "source": [
    "## LOOPS\n",
    "1. While loop\n",
    "2. For loop\n",
    "6. Infinite while loop"
   ]
  },
  {
   "cell_type": "markdown",
   "id": "e8487177",
   "metadata": {},
   "source": [
    "### **1. While loop**\n",
    "- till the condition satisfies it will repeat the block of code.\n",
    "- loops will only stop when,\n",
    "    - the condition fails\n",
    "    - break is executed\n",
    "- if statement will check the condition for one time and while loop will check the condition for multiple time till the condition satisfies."
   ]
  },
  {
   "cell_type": "code",
   "execution_count": 1,
   "id": "c14934c4",
   "metadata": {},
   "outputs": [
    {
     "name": "stdout",
     "output_type": "stream",
     "text": [
      "hello\n",
      "hello\n",
      "hello\n",
      "hello\n",
      "hello\n"
     ]
    }
   ],
   "source": [
    "x=1\n",
    "while x<=5:\n",
    "    print(\"hello\")\n",
    "    x=x+1"
   ]
  },
  {
   "cell_type": "code",
   "execution_count": 7,
   "id": "b8b03efd",
   "metadata": {},
   "outputs": [
    {
     "name": "stdout",
     "output_type": "stream",
     "text": [
      "[1, 2, 3, 4, 5]\n"
     ]
    }
   ],
   "source": [
    "# ask the user any five value and store them in list.\n",
    "i=1\n",
    "l=[]\n",
    "while i<=5:\n",
    "    n=eval(input('enter number :'))\n",
    "    l.append(n)\n",
    "    i=i+1\n",
    "print(l)"
   ]
  },
  {
   "cell_type": "code",
   "execution_count": 13,
   "id": "088a6b70",
   "metadata": {},
   "outputs": [
    {
     "name": "stdout",
     "output_type": "stream",
     "text": [
      "result: 6\n"
     ]
    }
   ],
   "source": [
    "# ask user to enter 3 value and add them\n",
    "i=1\n",
    "while i<=3:\n",
    "    n=eval(input())\n",
    "    sum=i+n\n",
    "    i=i+1\n",
    "print('result:',sum)"
   ]
  },
  {
   "cell_type": "code",
   "execution_count": null,
   "id": "b3656f2a",
   "metadata": {},
   "outputs": [
    {
     "name": "stdout",
     "output_type": "stream",
     "text": [
      "enter the number and once complete enter #\n",
      "['1', '2', '3']\n"
     ]
    }
   ],
   "source": [
    "# ask the user to enter the number and store them in list.\n",
    "print('enter the number and once complete enter #')\n",
    "l=[]\n",
    "while True:    # we use true entries are not define.\n",
    "    n=input(\"enter number:\")\n",
    "    if n==\"#\":\n",
    "        break\n",
    "    l.append(eval(n))\n",
    "print(l)"
   ]
  },
  {
   "cell_type": "code",
   "execution_count": null,
   "id": "328633e3",
   "metadata": {},
   "outputs": [
    {
     "name": "stdout",
     "output_type": "stream",
     "text": [
      "sak name is not Mahesh\n",
      "yes name is Mahesh\n"
     ]
    }
   ],
   "source": [
    "# give 5 chance and ask the user wheather their name is \"Mahesh\"\n",
    "x=1\n",
    "while x<=5:\n",
    "    n=input('enter name:')\n",
    "    if n.capitalize()==\"Mahesh\":\n",
    "        print(\"yes name is Mahesh\")\n",
    "        break\n",
    "    else:\n",
    "        print(n,\"name is not Mahesh\" )\n",
    "        x=x+1\n"
   ]
  },
  {
   "cell_type": "code",
   "execution_count": 44,
   "id": "89846411",
   "metadata": {},
   "outputs": [],
   "source": [
    "# Sum of all the digits of phone number till you get the single digit\n",
    "\n"
   ]
  },
  {
   "cell_type": "code",
   "execution_count": null,
   "id": "6f50cd68",
   "metadata": {},
   "outputs": [],
   "source": []
  }
 ],
 "metadata": {
  "kernelspec": {
   "display_name": "Python 3",
   "language": "python",
   "name": "python3"
  },
  "language_info": {
   "codemirror_mode": {
    "name": "ipython",
    "version": 3
   },
   "file_extension": ".py",
   "mimetype": "text/x-python",
   "name": "python",
   "nbconvert_exporter": "python",
   "pygments_lexer": "ipython3",
   "version": "3.10.16"
  }
 },
 "nbformat": 4,
 "nbformat_minor": 5
}
