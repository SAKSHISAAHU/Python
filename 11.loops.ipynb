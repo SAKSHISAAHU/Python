{
 "cells": [
  {
   "cell_type": "markdown",
   "id": "f113ac83",
   "metadata": {},
   "source": [
    "## LOOPS\n",
    "1. While loop\n",
    "- While loop\n",
    "- While loop with break\n",
    "- While-else loop\n",
    "- Infinite while loop with break\n",
    "\n",
    "2. For loop"
   ]
  },
  {
   "cell_type": "markdown",
   "id": "0195a0bc",
   "metadata": {},
   "source": [
    "### **1. While loop**\n",
    "- till the condition satisfies it will repeat the block of code.\n",
    "- loops will only stop when,\n",
    "    - the condition fails\n",
    "    - break is executed\n",
    "- if statement will check the condition for one time and while loop will check the condition for multiple time till the condition satisfies."
   ]
  },
  {
   "cell_type": "markdown",
   "id": "e8487177",
   "metadata": {},
   "source": [
    "### **1.1 While loop**\n",
    "*Syntax* -\n",
    "<pre>while condition:\n",
    "        # body of while loop<pre>\n"
   ]
  },
  {
   "cell_type": "code",
   "execution_count": 45,
   "id": "c14934c4",
   "metadata": {},
   "outputs": [
    {
     "name": "stdout",
     "output_type": "stream",
     "text": [
      "hello\n",
      "hello\n",
      "hello\n",
      "hello\n",
      "hello\n"
     ]
    }
   ],
   "source": [
    "x=1\n",
    "while x<=5:\n",
    "    print(\"hello\")\n",
    "    x=x+1"
   ]
  },
  {
   "cell_type": "code",
   "execution_count": 46,
   "id": "b8b03efd",
   "metadata": {},
   "outputs": [
    {
     "name": "stdout",
     "output_type": "stream",
     "text": [
      "[1, 1, 1, 1, 1]\n"
     ]
    }
   ],
   "source": [
    "# ask the user any five value and store them in list.\n",
    "i=1\n",
    "l=[]\n",
    "while i<=5:\n",
    "    n=eval(input('enter number :'))\n",
    "    l.append(n)\n",
    "    i=i+1\n",
    "print(l)"
   ]
  },
  {
   "cell_type": "code",
   "execution_count": 47,
   "id": "088a6b70",
   "metadata": {},
   "outputs": [
    {
     "name": "stdout",
     "output_type": "stream",
     "text": [
      "result: 4\n"
     ]
    }
   ],
   "source": [
    "# ask user to enter 3 value and add them\n",
    "i=1\n",
    "while i<=3:\n",
    "    n=eval(input())\n",
    "    sum=i+n\n",
    "    i=i+1\n",
    "print('result:',sum)"
   ]
  },
  {
   "cell_type": "code",
   "execution_count": null,
   "id": "89846411",
   "metadata": {},
   "outputs": [
    {
     "name": "stdout",
     "output_type": "stream",
     "text": [
      "45\n",
      "9\n"
     ]
    }
   ],
   "source": [
    "# Sum of all the digits of phone number till you get the single digit\n",
    "\n",
    "n=input(\"Enter your phone No:\")\n",
    "i=0\n",
    "sum=0\n",
    "while i<10:\n",
    "    sum=sum+eval(n[i])\n",
    "    i=i+1\n",
    "print(sum)\n",
    "sum=str(sum)\n",
    "result=int(sum[0])+int(sum[1])\n",
    "print(result)"
   ]
  },
  {
   "cell_type": "markdown",
   "id": "19c28258",
   "metadata": {},
   "source": [
    "### **1.2 While loop with break**\n",
    "*Syntax* - \n",
    "<pre>while condition:\n",
    "    if condition:\n",
    "        break<pre>"
   ]
  },
  {
   "cell_type": "code",
   "execution_count": 2,
   "id": "087c1c95",
   "metadata": {},
   "outputs": [
    {
     "name": "stdout",
     "output_type": "stream",
     "text": [
      "sak name is not Mahesh\n",
      "yes name is Mahesh\n"
     ]
    }
   ],
   "source": [
    "# give 5 chance and ask the user wheather their name is \"Mahesh\"\n",
    "x=1\n",
    "while x<=5:\n",
    "    n=input('enter name:')\n",
    "    if n.capitalize()==\"Mahesh\":\n",
    "        print(\"yes name is Mahesh\")\n",
    "        break\n",
    "    else:\n",
    "        print(n,\"name is not Mahesh\" )\n",
    "        x=x+1"
   ]
  },
  {
   "cell_type": "markdown",
   "id": "1ee9dcd4",
   "metadata": {},
   "source": [
    "### **1.3 While-else loop**\n",
    "*Syntax* - \n",
    "<pre>\n",
    "While condition:\n",
    "        while block of statement\n",
    "else:\n",
    "        else block of statement\n",
    "<pre>"
   ]
  },
  {
   "cell_type": "code",
   "execution_count": 8,
   "id": "11abd6d6",
   "metadata": {},
   "outputs": [
    {
     "name": "stdout",
     "output_type": "stream",
     "text": [
      "10\n",
      "9\n",
      "8\n",
      "7\n",
      "6\n",
      "5\n",
      "printed all the number greater than 5 till 10\n"
     ]
    }
   ],
   "source": [
    "x=10\n",
    "while x>=5:\n",
    "    print(x)\n",
    "    x=x-1\n",
    "else:\n",
    "    print('printed all the number greater than 5 till 10')"
   ]
  },
  {
   "cell_type": "code",
   "execution_count": null,
   "id": "31ce0dc6",
   "metadata": {},
   "outputs": [
    {
     "name": "stdout",
     "output_type": "stream",
     "text": [
      "10\n",
      "9\n",
      "8\n"
     ]
    }
   ],
   "source": [
    "x=10\n",
    "while x>=5:\n",
    "    print(x)\n",
    "    if x==8:\n",
    "        break # once break is executed nothing will execute after that\n",
    "    x=x-1\n",
    "else:\n",
    "    print(\"Break is executed\")"
   ]
  },
  {
   "cell_type": "markdown",
   "id": "faf97199",
   "metadata": {},
   "source": [
    "### **1.4 Infinite while loop with break**\n",
    "*Syntax* -\n",
    "<pre>\n",
    "while True:\n",
    "    block of statement\n",
    "    break\n",
    "<pre>"
   ]
  },
  {
   "cell_type": "code",
   "execution_count": 3,
   "id": "af389c02",
   "metadata": {},
   "outputs": [
    {
     "name": "stdout",
     "output_type": "stream",
     "text": [
      "enter the number and once complete enter #\n",
      "[2, 3]\n"
     ]
    }
   ],
   "source": [
    "# ask the user to enter the number and store them in list.\n",
    "print('enter the number and once complete enter #')\n",
    "l=[]\n",
    "while True:    # we use true entries are not define.\n",
    "    n=input(\"enter number:\")\n",
    "    if n==\"#\":\n",
    "        break\n",
    "    l.append(eval(n))\n",
    "print(l)"
   ]
  },
  {
   "cell_type": "code",
   "execution_count": null,
   "id": "a956bec8",
   "metadata": {},
   "outputs": [],
   "source": []
  }
 ],
 "metadata": {
  "kernelspec": {
   "display_name": "Python 3",
   "language": "python",
   "name": "python3"
  },
  "language_info": {
   "codemirror_mode": {
    "name": "ipython",
    "version": 3
   },
   "file_extension": ".py",
   "mimetype": "text/x-python",
   "name": "python",
   "nbconvert_exporter": "python",
   "pygments_lexer": "ipython3",
   "version": "3.10.16"
  }
 },
 "nbformat": 4,
 "nbformat_minor": 5
}
