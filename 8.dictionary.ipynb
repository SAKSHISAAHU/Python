{
 "cells": [
  {
   "cell_type": "markdown",
   "id": "94da2b68",
   "metadata": {},
   "source": [
    "# DICTIONARY\n",
    "- dict cant have key sithout value and visa versa.\n",
    "- indexing is done based on key name\n",
    "- slicing is not possible\n",
    "- concatination is not possible\n",
    "- list of tuples with the set of 2-2 values can only convert into dictionary e.g- [('a',1),('b',2)] -> {'a':1,'b':2}"
   ]
  },
  {
   "cell_type": "markdown",
   "id": "c66b8c5f",
   "metadata": {},
   "source": [
    "### **methods**\n",
    "\n",
    "1. .keys()\n",
    "2. .values()\n",
    "3. .items()\n",
    "4. .update()\n",
    "5. .pop() - used to remove key using value\n",
    "-  del - used to remove value using key\n",
    "6. .clear()\n",
    "7. .copy()\n",
    "8. .get()\n",
    "9. .replace_value\n",
    "10. .replace key"
   ]
  },
  {
   "cell_type": "code",
   "execution_count": null,
   "id": "ea5b16a2",
   "metadata": {},
   "outputs": [
    {
     "data": {
      "text/plain": [
       "dict_keys(['history', 'hindi'])"
      ]
     },
     "execution_count": 1,
     "metadata": {},
     "output_type": "execute_result"
    }
   ],
   "source": [
    "# keys() - give list of keys\n",
    "marks={'history':45,'hindi':56}\n",
    "marks.keys()"
   ]
  },
  {
   "cell_type": "code",
   "execution_count": null,
   "id": "5b095fa8",
   "metadata": {},
   "outputs": [
    {
     "data": {
      "text/plain": [
       "dict_values([45, 56])"
      ]
     },
     "execution_count": 2,
     "metadata": {},
     "output_type": "execute_result"
    }
   ],
   "source": [
    "# values() - give list of values.\n",
    "marks={'history':45,'hindi':56}\n",
    "marks.values()"
   ]
  },
  {
   "cell_type": "code",
   "execution_count": null,
   "id": "fcce1c60",
   "metadata": {},
   "outputs": [
    {
     "data": {
      "text/plain": [
       "dict_items([('history', 45), ('hindi', 56)])"
      ]
     },
     "execution_count": 3,
     "metadata": {},
     "output_type": "execute_result"
    }
   ],
   "source": [
    "# iitems() - gives list of items (key- value pairs)\n",
    "marks={'history':45,'hindi':56}\n",
    "marks.items()"
   ]
  },
  {
   "cell_type": "code",
   "execution_count": null,
   "id": "e2ee3d93",
   "metadata": {},
   "outputs": [
    {
     "name": "stdout",
     "output_type": "stream",
     "text": [
      "{'history': 45, 'hindi': 56, 'maths': 40}\n",
      "{'history': 45, 'hindi': 56, 'english': 60}\n"
     ]
    }
   ],
   "source": [
    "# to add single item\n",
    "\n",
    "# Option 1\n",
    "marks={'history':45,'hindi':56}\n",
    "marks['maths']=40\n",
    "print(marks)\n",
    "\n",
    "# Option 2\n",
    "    # update()\n",
    "marks={'history':45,'hindi':56}\n",
    "# print(marks.update({'english':50}))    # cant write like this as it returns \"NONE\" coz at a time out of printing and assiging only one can be done.\n",
    "marks.update({'english':60})\n",
    "print(marks)"
   ]
  },
  {
   "cell_type": "code",
   "execution_count": 9,
   "id": "a1929ca7",
   "metadata": {},
   "outputs": [
    {
     "name": "stdout",
     "output_type": "stream",
     "text": [
      "{'history': 45, 'hindi': 56, 'maths': 40, 'chemistry': 55}\n"
     ]
    }
   ],
   "source": [
    "# update- use to add multiple items as well.\n",
    "marks={'history':45,'hindi':56}\n",
    "marks.update({'maths':40, 'chemistry':55})\n",
    "print(marks)"
   ]
  },
  {
   "cell_type": "code",
   "execution_count": null,
   "id": "efe64d7e",
   "metadata": {},
   "outputs": [
    {
     "name": "stdout",
     "output_type": "stream",
     "text": [
      "45\n",
      "{'hindi': 56}\n"
     ]
    }
   ],
   "source": [
    "# pop() - use to remove and return the value of a specific key.\n",
    "marks={'history':45,'hindi':56}\n",
    "print(marks.pop('history'))  # by this history key will remove and it will return value only\n",
    "print(marks) # by this, if we print the updated dictionary as from above key is remove and without key value will be removed so, the modified dict is,"
   ]
  },
  {
   "cell_type": "code",
   "execution_count": null,
   "id": "fcbc2dda",
   "metadata": {},
   "outputs": [
    {
     "name": "stdout",
     "output_type": "stream",
     "text": [
      "{'hindi': 56}\n"
     ]
    }
   ],
   "source": [
    "# del \n",
    "marks={'history':45,'hindi':56}\n",
    "del marks['history']  # we extract \"history\"(as we use [] brackets) which is 45 and we remove it. so, as we delete the value key will automatically deleted.\n",
    "print(marks)"
   ]
  },
  {
   "cell_type": "code",
   "execution_count": 18,
   "id": "a1274c6f",
   "metadata": {},
   "outputs": [
    {
     "name": "stdout",
     "output_type": "stream",
     "text": [
      "{}\n"
     ]
    }
   ],
   "source": [
    "# clear() - used to clear all item and remove empty dict.\n",
    "marks={'history':45,'hindi':56}\n",
    "marks.clear()\n",
    "print(marks)"
   ]
  },
  {
   "cell_type": "code",
   "execution_count": null,
   "id": "f5d3ee9b",
   "metadata": {},
   "outputs": [
    {
     "name": "stdout",
     "output_type": "stream",
     "text": [
      "{'history': 45, 'hindi': 60, 'english': 55}\n"
     ]
    }
   ],
   "source": [
    "# replace_value\n",
    "marks={'history':45,'hindi':56}\n",
    "marks['hindi']=60   # if the key is avail it will update value \n",
    "marks['english']=55  # if the key is not there it will create new item\n",
    "print(marks)"
   ]
  },
  {
   "cell_type": "code",
   "execution_count": null,
   "id": "98dfaf73",
   "metadata": {},
   "outputs": [
    {
     "name": "stdout",
     "output_type": "stream",
     "text": [
      "{'hindi': 56, 'english': 45}\n"
     ]
    }
   ],
   "source": [
    "# replace_key\n",
    "marks={'history':45,'hindi':56}\n",
    "marks['english']=marks.pop('history')  # by right side history will remove and is replace by english \n",
    "print(marks)"
   ]
  }
 ],
 "metadata": {
  "kernelspec": {
   "display_name": "Python 3",
   "language": "python",
   "name": "python3"
  },
  "language_info": {
   "codemirror_mode": {
    "name": "ipython",
    "version": 3
   },
   "file_extension": ".py",
   "mimetype": "text/x-python",
   "name": "python",
   "nbconvert_exporter": "python",
   "pygments_lexer": "ipython3",
   "version": "3.10.16"
  }
 },
 "nbformat": 4,
 "nbformat_minor": 5
}
