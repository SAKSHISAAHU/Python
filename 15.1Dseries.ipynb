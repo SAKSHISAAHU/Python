{
 "cells": [
  {
   "cell_type": "markdown",
   "id": "f087cb0c",
   "metadata": {},
   "source": [
    "## PANDAS\n",
    "- It is used for data manipulation which means change of data or modifications like adding, replacing, deleting etc."
   ]
  },
  {
   "cell_type": "code",
   "execution_count": 1,
   "id": "5d671b93",
   "metadata": {},
   "outputs": [],
   "source": [
    "import numpy as np\n",
    "import pandas as pd"
   ]
  },
  {
   "cell_type": "markdown",
   "id": "dd93ed6c",
   "metadata": {},
   "source": [
    "## **1. Series**\n",
    "- 1 column = 1D series\n",
    "- It is a 1D labeled array provided by the Pandas library.\n",
    "- It can hold both fundamental and advance data types.\n",
    "- nested of data types are possible."
   ]
  },
  {
   "cell_type": "code",
   "execution_count": 2,
   "id": "b8cdcf86",
   "metadata": {},
   "outputs": [
    {
     "name": "stdout",
     "output_type": "stream",
     "text": [
      "0    10\n",
      "1    20\n",
      "2    30\n",
      "dtype: int64\n"
     ]
    }
   ],
   "source": [
    "s=pd.Series([10,20,30])\n",
    "print(s)\n",
    "\n",
    "# in Output, 0,1,2 are rows name also called index name just like dictionary keys name (which is also called index name) not index number they are not visible."
   ]
  },
  {
   "cell_type": "markdown",
   "id": "dc5386e4",
   "metadata": {},
   "source": [
    "### **1.1 Creation**\n",
    "1. List \n",
    "2. Array\n",
    "3. Dictionary"
   ]
  },
  {
   "cell_type": "code",
   "execution_count": null,
   "id": "6cd51eec",
   "metadata": {},
   "outputs": [
    {
     "name": "stdout",
     "output_type": "stream",
     "text": [
      "a    11\n",
      "b    22\n",
      "c    33\n",
      "dtype: int64\n"
     ]
    }
   ],
   "source": [
    "# By list \n",
    "\n",
    "l=[11,22,33]\n",
    "s=pd.Series(l, index=['a','b','c'])\n",
    "print(s)\n",
    "\n",
    "# In Output,\n",
    "#        index name     index no\n",
    "#             a             0\n",
    "#             b             1\n",
    "#             c             2\n"
   ]
  },
  {
   "cell_type": "code",
   "execution_count": null,
   "id": "434baa2b",
   "metadata": {},
   "outputs": [
    {
     "name": "stdout",
     "output_type": "stream",
     "text": [
      "0    10\n",
      "1    20\n",
      "2    30\n",
      "dtype: int64\n"
     ]
    }
   ],
   "source": [
    "# By 1D Array\n",
    "\n",
    "a=np.array([10,20,30])\n",
    "s=pd.Series(a)\n",
    "print(s)"
   ]
  },
  {
   "cell_type": "code",
   "execution_count": 14,
   "id": "dd2b392c",
   "metadata": {},
   "outputs": [
    {
     "name": "stdout",
     "output_type": "stream",
     "text": [
      "a    1\n",
      "b    2\n",
      "c    3\n",
      "dtype: int64\n"
     ]
    }
   ],
   "source": [
    "# By Dictionary\n",
    "\n",
    "d={'a':1,'b':2,'c':3}\n",
    "s=pd.Series(d)\n",
    "print(s)"
   ]
  },
  {
   "cell_type": "code",
   "execution_count": 16,
   "id": "3913f4c7",
   "metadata": {},
   "outputs": [
    {
     "data": {
      "text/plain": [
       "[1, 2, 3]"
      ]
     },
     "execution_count": 16,
     "metadata": {},
     "output_type": "execute_result"
    }
   ],
   "source": [
    "# series convert to list\n",
    "s.tolist()"
   ]
  },
  {
   "cell_type": "markdown",
   "id": "d270eb63",
   "metadata": {},
   "source": [
    "### **1.2 Extraction**\n",
    "\n",
    "1. Accessing single value through indexing.\n",
    "2. Accessing multiple value through slicing.\n",
    "3. Accessing multiple value through indexing.\n",
    "4. Accessing multiple value through condition.\n",
    "\n",
    "- if index number is used then **iloc** is required\n",
    "- if index name is used then **loc** is required or we can just extract using index name."
   ]
  },
  {
   "cell_type": "code",
   "execution_count": 11,
   "id": "b5193707",
   "metadata": {},
   "outputs": [
    {
     "data": {
      "text/plain": [
       "a    10\n",
       "b    20\n",
       "c    30\n",
       "d    40\n",
       "e    50\n",
       "d    60\n",
       "dtype: int64"
      ]
     },
     "execution_count": 11,
     "metadata": {},
     "output_type": "execute_result"
    }
   ],
   "source": [
    "s=pd.Series([10,20,30,40,50,60], index=['a','b','c','d','e','d'])\n",
    "s"
   ]
  },
  {
   "cell_type": "code",
   "execution_count": 52,
   "id": "b003e24f",
   "metadata": {},
   "outputs": [
    {
     "name": "stdout",
     "output_type": "stream",
     "text": [
      "30\n",
      "20\n"
     ]
    }
   ],
   "source": [
    "# single value ---> indexing\n",
    "print(s.iloc[2])\n",
    "print(s.loc['b'])"
   ]
  },
  {
   "cell_type": "code",
   "execution_count": 12,
   "id": "a4aa53e1",
   "metadata": {},
   "outputs": [
    {
     "name": "stdout",
     "output_type": "stream",
     "text": [
      "b    20\n",
      "c    30\n",
      "d    40\n",
      "dtype: int64\n",
      "b    20\n",
      "d    40\n",
      "dtype: int64\n"
     ]
    }
   ],
   "source": [
    "# multiple value ---> slicing\n",
    "                    # index no ---> [included, excluded, step]\n",
    "                    # index name ---> [included, included, step]\n",
    "print(s.iloc[1:4])\n",
    "print(s.loc['b':'e':2])"
   ]
  },
  {
   "cell_type": "code",
   "execution_count": 43,
   "id": "ec642953",
   "metadata": {},
   "outputs": [
    {
     "data": {
      "text/plain": [
       "2    30\n",
       "4    50\n",
       "6    70\n",
       "dtype: int64"
      ]
     },
     "execution_count": 43,
     "metadata": {},
     "output_type": "execute_result"
    }
   ],
   "source": [
    "# multiple value ---> indexing\n",
    "s.iloc[[2, 4, 6]]\n"
   ]
  },
  {
   "cell_type": "code",
   "execution_count": 10,
   "id": "ae327fd0",
   "metadata": {},
   "outputs": [
    {
     "data": {
      "text/plain": [
       "Series([], dtype: int64)"
      ]
     },
     "execution_count": 10,
     "metadata": {},
     "output_type": "execute_result"
    }
   ],
   "source": [
    "# multiple value ---> condition\n",
    "s[s>=60]"
   ]
  },
  {
   "cell_type": "markdown",
   "id": "71c8a955",
   "metadata": {},
   "source": [
    "### **1.3 Modification**\n",
    "- when we do modification the previous modified value is treated as original for next modification.\n",
    "1. Adding\n",
    "2. Replacing\n",
    "    - single value\n",
    "    - multiple index with single value\n",
    "        - indexing \n",
    "        - slicing\n",
    "    - multiple index with multiple value\n",
    "3. Deleting\n",
    "    - index name\n",
    "    - index no."
   ]
  },
  {
   "cell_type": "code",
   "execution_count": 78,
   "id": "638b2f54",
   "metadata": {},
   "outputs": [],
   "source": [
    "s=pd.Series([10,20,30,40,50,60], index=['a','b','c','d','e','f'])"
   ]
  },
  {
   "cell_type": "markdown",
   "id": "55909ac8",
   "metadata": {},
   "source": [
    "#### **1.3.1 Adding**"
   ]
  },
  {
   "cell_type": "code",
   "execution_count": 81,
   "id": "dac15581",
   "metadata": {},
   "outputs": [
    {
     "name": "stdout",
     "output_type": "stream",
     "text": [
      "a    10\n",
      "b    20\n",
      "c    30\n",
      "d    40\n",
      "e    50\n",
      "f    60\n",
      "g    70\n",
      "dtype: int64\n"
     ]
    }
   ],
   "source": [
    "# single value --- Series_name[index name] = value\n",
    "s['g']=70\n",
    "print(s)"
   ]
  },
  {
   "cell_type": "markdown",
   "id": "0945b7f0",
   "metadata": {},
   "source": [
    "#### **1.3.2 Replacing**"
   ]
  },
  {
   "cell_type": "code",
   "execution_count": null,
   "id": "116b7222",
   "metadata": {},
   "outputs": [
    {
     "name": "stdout",
     "output_type": "stream",
     "text": [
      "0    100\n",
      "1    200\n",
      "2    100\n",
      "3     40\n",
      "4      1\n",
      "5     60\n",
      "6    300\n",
      "dtype: int64\n"
     ]
    }
   ],
   "source": [
    "# 2.1 replace single value\n",
    "s.iloc[2] = 100  # replaces the third item (30) with 100\n",
    "print(s)"
   ]
  },
  {
   "cell_type": "code",
   "execution_count": null,
   "id": "9a5dabe5",
   "metadata": {},
   "outputs": [
    {
     "name": "stdout",
     "output_type": "stream",
     "text": [
      "0    10\n",
      "1    20\n",
      "2     1\n",
      "3    40\n",
      "4     1\n",
      "5    60\n",
      "6     1\n",
      "dtype: int64\n"
     ]
    }
   ],
   "source": [
    "# 2.2.1 replacing multipne index with single value through indexing\n",
    "s.iloc[[2, 4, 6]] = 1\n",
    "print(s)"
   ]
  },
  {
   "cell_type": "code",
   "execution_count": null,
   "id": "4b342645",
   "metadata": {},
   "outputs": [
    {
     "name": "stdout",
     "output_type": "stream",
     "text": [
      "0    10\n",
      "1    10\n",
      "2    10\n",
      "3    40\n",
      "4     1\n",
      "5    60\n",
      "6     1\n",
      "dtype: int64\n"
     ]
    }
   ],
   "source": [
    "# 2.2.2 replacing multipne index with single value through slicing\n",
    "s.iloc[1:3]=10\n",
    "print(s)"
   ]
  },
  {
   "cell_type": "code",
   "execution_count": 88,
   "id": "d9a36369",
   "metadata": {},
   "outputs": [
    {
     "name": "stdout",
     "output_type": "stream",
     "text": [
      "a    10\n",
      "b    10\n",
      "c    10\n",
      "d    10\n",
      "e    10\n",
      "f    10\n",
      "dtype: int64\n"
     ]
    }
   ],
   "source": [
    "# replacing multiple index with single value through slicing\n",
    "s.iloc[:]=10  \n",
    "print(s)"
   ]
  },
  {
   "cell_type": "code",
   "execution_count": null,
   "id": "6db6fc7d",
   "metadata": {},
   "outputs": [
    {
     "name": "stdout",
     "output_type": "stream",
     "text": [
      "0    100\n",
      "1    200\n",
      "2     10\n",
      "3     40\n",
      "4      1\n",
      "5     60\n",
      "6    300\n",
      "dtype: int64\n"
     ]
    }
   ],
   "source": [
    "# 2.3 replacing multiple index with multiple value through indexing\n",
    "s.iloc[[0,1,6]]=[100,200,300]\n",
    "print(s)"
   ]
  },
  {
   "cell_type": "markdown",
   "id": "5355ba53",
   "metadata": {},
   "source": [
    "#### **1.3.3 Deletion**\n",
    "- In drop, Index attribute is used for index name and axis attribute is used for index number which remove the row(horizontaly)."
   ]
  },
  {
   "cell_type": "markdown",
   "id": "4a7b124e",
   "metadata": {},
   "source": [
    "##### **1.3.3.1 Delete using index name**"
   ]
  },
  {
   "cell_type": "code",
   "execution_count": 108,
   "id": "c827846a",
   "metadata": {},
   "outputs": [
    {
     "name": "stdout",
     "output_type": "stream",
     "text": [
      "1    2\n",
      "2    3\n",
      "3    4\n",
      "4    5\n",
      "dtype: int64\n"
     ]
    }
   ],
   "source": [
    "# single value throgh index name\n",
    "s=pd.Series([1,2,3,4,5])\n",
    "x=s.drop(index=0)\n",
    "print(x)"
   ]
  },
  {
   "cell_type": "code",
   "execution_count": 109,
   "id": "a97f57b9",
   "metadata": {},
   "outputs": [
    {
     "name": "stdout",
     "output_type": "stream",
     "text": [
      "a    1\n",
      "b    2\n",
      "dtype: int64\n"
     ]
    }
   ],
   "source": [
    "s=pd.Series([1,2,3],index=['a','b','c'])\n",
    "x=s.drop(index='c')\n",
    "print(x)"
   ]
  },
  {
   "cell_type": "code",
   "execution_count": null,
   "id": "1e9e9b08",
   "metadata": {},
   "outputs": [
    {
     "name": "stdout",
     "output_type": "stream",
     "text": [
      "2    3\n",
      "3    4\n",
      "4    5\n",
      "dtype: int64\n"
     ]
    }
   ],
   "source": [
    "# multiple value through index name\n",
    "s=pd.Series([1,2,3,4,5])\n",
    "x=s.drop(index=[0,1])\n",
    "print(x)"
   ]
  },
  {
   "cell_type": "code",
   "execution_count": 123,
   "id": "2fc38826",
   "metadata": {},
   "outputs": [
    {
     "name": "stdout",
     "output_type": "stream",
     "text": [
      "a    1\n",
      "dtype: int64\n"
     ]
    }
   ],
   "source": [
    "s=pd.Series([1,2,3],index=['a','b','c'])\n",
    "x=s.drop(index=['b','c'])\n",
    "print(x)"
   ]
  },
  {
   "cell_type": "markdown",
   "id": "527db9bc",
   "metadata": {},
   "source": [
    "##### **1.3.3.2 Delete using index number**"
   ]
  },
  {
   "cell_type": "code",
   "execution_count": 106,
   "id": "2773a25c",
   "metadata": {},
   "outputs": [
    {
     "name": "stdout",
     "output_type": "stream",
     "text": [
      "0    1\n",
      "1    2\n",
      "dtype: int64\n"
     ]
    }
   ],
   "source": [
    "# single value throgh index no.\n",
    "s=pd.Series([1,2,3])\n",
    "x=s.drop(2,axis=0)\n",
    "print(x)"
   ]
  },
  {
   "cell_type": "code",
   "execution_count": null,
   "id": "8997fbdc",
   "metadata": {},
   "outputs": [
    {
     "name": "stdout",
     "output_type": "stream",
     "text": [
      "0    1\n",
      "dtype: int64\n"
     ]
    }
   ],
   "source": [
    "# multiple value throgh index no.\n",
    "s= pd.Series([1, 2, 3])\n",
    "x = s.drop([1,2],axis=0)  \n",
    "print(x)\n"
   ]
  },
  {
   "cell_type": "markdown",
   "id": "e4f53377",
   "metadata": {},
   "source": [
    "### **1.4 Operations**"
   ]
  },
  {
   "cell_type": "markdown",
   "id": "ebf6fd13",
   "metadata": {},
   "source": []
  }
 ],
 "metadata": {
  "kernelspec": {
   "display_name": "Python 3",
   "language": "python",
   "name": "python3"
  },
  "language_info": {
   "codemirror_mode": {
    "name": "ipython",
    "version": 3
   },
   "file_extension": ".py",
   "mimetype": "text/x-python",
   "name": "python",
   "nbconvert_exporter": "python",
   "pygments_lexer": "ipython3",
   "version": "3.10.16"
  }
 },
 "nbformat": 4,
 "nbformat_minor": 5
}
