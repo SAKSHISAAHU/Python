{
 "cells": [
  {
   "cell_type": "markdown",
   "id": "ceee650b",
   "metadata": {},
   "source": [
    "# COMMENTS, VALUES and VARIABLES"
   ]
  },
  {
   "cell_type": "markdown",
   "id": "c6457ae0",
   "metadata": {},
   "source": [
    "## COMMENTS :\n",
    "- Single line - use hash before commenting.\n",
    "- Multi line - use to triple qotes (single or double) and write in between."
   ]
  },
  {
   "cell_type": "markdown",
   "id": "dd87c20e",
   "metadata": {},
   "source": [
    "## VALUES :\n",
    "- values are the data that we write right side after writing a variable name.\n",
    "- types :-\n",
    "    1. numerical value (inclues)\n",
    "        - without decimal value - Interger or Int range from (-int,int).\n",
    "        - with decimal value - Float (values with one decimal only).\n",
    "\n",
    "    2. non-numerical value\n",
    "        - String or Str - Any combination of text, number or special character written in between quotes (single or double) for single line string and for multi-line triple quotes .\n",
    "        - Boolean or Bool - True or False value."
   ]
  },
  {
   "cell_type": "markdown",
   "id": "8d1eadeb",
   "metadata": {},
   "source": [
    "## VARIABLES :\n",
    "- It is used to store the values by writting variable name. EX- a = 10 \n",
    "- Names are called identifiers in python like variable_name, function_name, library_name etc.\n",
    "### rules for identifiers :\n",
    "1. It need to be start with alphabets or underscore.\n",
    "2. It can only have aplhabet, number and underscore.\n",
    "3. It is case sensitive means 'A' and 'a' is different.\n",
    "4. It can't use reserved or keywords.\n",
    "### Variable Assignment :\n",
    "1. Single Variable Assignment \n",
    "    - can assign single value to single variable. Ex- a=10.\n",
    "    - can assign multiple values to single variable. Ex- a=10,20 (consider as tuple)\n",
    "2. Multiple variable Assignment\n",
    "    - can assign single value to multiple variables. Ex- a=b=c=100.\n",
    "    - can assign multiple values to multiple variables. Ex- a,b,c=10,20,30.\n",
    "\n",
    "- *In Python, first right side part is executed and answer is stored in the left side variable after that. EX- a=a+10*\n",
    "- *In Python, when tou assign different value for the same variable then the latest value will be stored and previous value will be deleted. EX- a=10 a= 20*\n",
    "\n",
    "\n",
    "### Deleting Variable : del() keyword is used to delete.\n"
   ]
  },
  {
   "cell_type": "markdown",
   "id": "6f5c766a",
   "metadata": {},
   "source": [
    "# OUTPUT IN PYTHON :\n",
    "- for printing output print() is used.\n",
    "- print(single value/ multiple values/ single variable/ multiple variables/ all combinations of them)\n",
    "- when we print multiple values or variables by deafult it will seperate them by space but we can customize by using seperator keyword (sep=\"\") and whatever seperator want can write bwtween those quotes(single or double). "
   ]
  }
 ],
 "metadata": {
  "kernelspec": {
   "display_name": "Python 3",
   "language": "python",
   "name": "python3"
  },
  "language_info": {
   "codemirror_mode": {
    "name": "ipython",
    "version": 3
   },
   "file_extension": ".py",
   "mimetype": "text/x-python",
   "name": "python",
   "nbconvert_exporter": "python",
   "pygments_lexer": "ipython3",
   "version": "3.10.16"
  }
 },
 "nbformat": 4,
 "nbformat_minor": 5
}
