{
 "cells": [
  {
   "cell_type": "markdown",
   "id": "fd1d40b6",
   "metadata": {},
   "source": [
    "## 2D NUMPY ARRAY\n",
    "- 2 rows = 2D array\n",
    "- comibantion of multiple 1D array called 2D array\n",
    "- combination od multiple 2D are called 3D but they lie under 2D category.\n",
    "- when creating  2D array the length of the list must be of same size."
   ]
  },
  {
   "cell_type": "code",
   "execution_count": null,
   "id": "406361c2",
   "metadata": {},
   "outputs": [
    {
     "name": "stdout",
     "output_type": "stream",
     "text": [
      "[[1 2 3]\n",
      " [4 5 6]]\n",
      "2\n"
     ]
    }
   ],
   "source": [
    "import numpy as np\n",
    "a=np.array([[1,2,3],[4,5,6]])\n",
    "print(a)"
   ]
  },
  {
   "cell_type": "code",
   "execution_count": null,
   "id": "c1e28f19",
   "metadata": {},
   "outputs": [
    {
     "name": "stdout",
     "output_type": "stream",
     "text": [
      "2\n",
      "(2, 3)\n"
     ]
    }
   ],
   "source": [
    "print(a.ndim)   # number of dimensions\n",
    "print(a.shape)  # tuple representing the size of the array (rows, columns)\n",
    "# The number of items in the tuple a.shape is equal to a.ndim."
   ]
  },
  {
   "cell_type": "markdown",
   "id": "8254378b",
   "metadata": {},
   "source": [
    "### **1.1 Creation**\n",
    "1. zeros\n",
    "2. ones\n",
    "3. identity matrix\n",
    "4. diagonal matrix"
   ]
  },
  {
   "cell_type": "code",
   "execution_count": null,
   "id": "b00f398d",
   "metadata": {},
   "outputs": [
    {
     "name": "stdout",
     "output_type": "stream",
     "text": [
      "[[0 0 0]\n",
      " [0 0 0]]\n"
     ]
    }
   ],
   "source": [
    "#Zeroes\n",
    "import numpy as np\n",
    "a=np.zeros((2,3), dtype=int) # dtype is optional\n",
    "print(a)"
   ]
  },
  {
   "cell_type": "code",
   "execution_count": null,
   "id": "854c17c6",
   "metadata": {},
   "outputs": [
    {
     "name": "stdout",
     "output_type": "stream",
     "text": [
      "[[1. 1.]\n",
      " [1. 1.]]\n"
     ]
    }
   ],
   "source": [
    "# ones\n",
    "import numpy as np\n",
    "a=np.ones((2,2)) # dtype is optional\n",
    "print(a)"
   ]
  },
  {
   "cell_type": "markdown",
   "id": "30b8e1cf",
   "metadata": {},
   "source": [
    "### **1.2 Extraction**"
   ]
  },
  {
   "cell_type": "code",
   "execution_count": null,
   "id": "51922ee6",
   "metadata": {},
   "outputs": [],
   "source": []
  }
 ],
 "metadata": {
  "kernelspec": {
   "display_name": "Python 3",
   "language": "python",
   "name": "python3"
  },
  "language_info": {
   "codemirror_mode": {
    "name": "ipython",
    "version": 3
   },
   "file_extension": ".py",
   "mimetype": "text/x-python",
   "name": "python",
   "nbconvert_exporter": "python",
   "pygments_lexer": "ipython3",
   "version": "3.10.16"
  }
 },
 "nbformat": 4,
 "nbformat_minor": 5
}
