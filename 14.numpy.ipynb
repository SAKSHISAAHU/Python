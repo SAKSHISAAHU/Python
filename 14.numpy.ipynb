{
 "cells": [
  {
   "cell_type": "markdown",
   "id": "405c2267",
   "metadata": {},
   "source": [
    "## NUMPY\n",
    "- stands for numerical python\n",
    "- used for data manipulation (means somthing we have to do on data).\n",
    "- it basically focuses on row,\n",
    "    - 1 row = 1D Numpy array\n",
    "    - 2 rows = 2D Numpy array"
   ]
  },
  {
   "cell_type": "markdown",
   "id": "3e099a0f",
   "metadata": {},
   "source": [
    "### **1. Array**\n",
    "- An array in Python is a way to store multiple values in a single variable. \n",
    "- Python doesn’t have a built-in array data type like some other languages thats why to use we need to import array module.\n",
    "- By deafult apply for loop - for each value in array\n",
    "- If the original array contains a string, all other elements are automatically converted to strings after printing. **str > float > int > bool**\n",
    "- Nested array is not possible as every item in array should be either fundamental or advance datatype not mix of them.\n",
    "- If a list items printed without comma then it is array."
   ]
  },
  {
   "cell_type": "markdown",
   "id": "71a46528",
   "metadata": {},
   "source": [
    "#### **1.1 Ways to use array**"
   ]
  },
  {
   "cell_type": "markdown",
   "id": "dc68c16b",
   "metadata": {},
   "source": [
    "#### **1.1.1 By array module**"
   ]
  },
  {
   "cell_type": "markdown",
   "id": "7a24e17f",
   "metadata": {},
   "source": [
    "- syntax \n",
    "    <pre>\n",
    "    import array as arr\n",
    "    array_name = arr . array_function('datatype' , [list of item])\n",
    "    print(array_name)\n",
    "    <pre>\n",
    "\n",
    "- only support basic types \n",
    "    - 'i' : signed integer\n",
    "    - 'f' : float\n",
    "    - 'd' : double"
   ]
  },
  {
   "cell_type": "code",
   "execution_count": null,
   "id": "c76d2232",
   "metadata": {},
   "outputs": [
    {
     "name": "stdout",
     "output_type": "stream",
     "text": [
      "array('f', [1.0, 2.0, 3.0, 4.0])\n"
     ]
    }
   ],
   "source": [
    "# array module\n",
    "\n",
    "import array as arr\n",
    "a=arr.array('f',[1,2,3,4])\n",
    "print(a)"
   ]
  },
  {
   "cell_type": "markdown",
   "id": "89aa4fcc",
   "metadata": {},
   "source": [
    "#### **1.1.2 By numpy array**\n",
    "- syntax\n",
    "\n",
    "    <pre>\n",
    "    import numpy as np\n",
    "    array_name = np . array_function([list of items])\n",
    "    print(array_name)\n",
    "    <pre>\n",
    "\n",
    "- Creation\n",
    "    1. array()\n",
    "    2. arange()\n",
    "    3. zeros()\n",
    "    4. ones()\n",
    "    5. random.randint()\n",
    "    6. tolist()\n",
    "\n",
    "- Extraction\n",
    "    - accessing single value - indexing\n",
    "    - accessing multiple values if they have pattern - slicing \n",
    "    - accessing multiple values if they have no pattern - indexing - array[[list of index number]]\n",
    "    - accessing single or multiple values based on condition - array[condition]\n",
    "\n",
    "- Modification\n",
    "    1. Adding\n",
    "        - Single value --> np.append(array_name , value)\n",
    "        - Multiple values --> np.append(array_name , [list of items])\n",
    "\n",
    "    2. Replace\n",
    "        - Single value --> array_name[index]\n",
    "        - Multiple index with single value --> array_name[[list of index no.]]\n",
    "        - Multiple index with multiple values --> array_name[[list of index no.]] = [list of number] \n",
    "\n",
    "    3. Deletion\n",
    "        - Single value --> np.delete(array_name , index no)\n",
    "        - Multiple values --> np.delete(array_name , [multiple index no.])\n"
   ]
  },
  {
   "cell_type": "markdown",
   "id": "3ca9f938",
   "metadata": {},
   "source": [
    "#### 1.1.2.1 Creation"
   ]
  },
  {
   "cell_type": "code",
   "execution_count": 27,
   "id": "ea471c06",
   "metadata": {},
   "outputs": [],
   "source": [
    "import numpy as np"
   ]
  },
  {
   "cell_type": "code",
   "execution_count": 28,
   "id": "7826362e",
   "metadata": {},
   "outputs": [
    {
     "name": "stdout",
     "output_type": "stream",
     "text": [
      "[1 2 3]\n"
     ]
    }
   ],
   "source": [
    "# 1.array()\n",
    "\n",
    "a=np.array([1,2,3])\n",
    "print(a)"
   ]
  },
  {
   "cell_type": "code",
   "execution_count": 29,
   "id": "57528f74",
   "metadata": {},
   "outputs": [
    {
     "name": "stdout",
     "output_type": "stream",
     "text": [
      "[1 4]\n"
     ]
    }
   ],
   "source": [
    "# 2.arange()\n",
    "\n",
    "arr=np.arange(1,5,3)\n",
    "print(arr)"
   ]
  },
  {
   "cell_type": "code",
   "execution_count": 30,
   "id": "d2d834ab",
   "metadata": {},
   "outputs": [
    {
     "name": "stdout",
     "output_type": "stream",
     "text": [
      "[0. 0. 0. 0.]\n"
     ]
    }
   ],
   "source": [
    "# 3.Zeros(1arg) - generate array of zeros and by deafult give float output\n",
    "\n",
    "arr=np.zeros(4,) \n",
    "print(arr)"
   ]
  },
  {
   "cell_type": "code",
   "execution_count": 31,
   "id": "b131e3c9",
   "metadata": {},
   "outputs": [
    {
     "name": "stdout",
     "output_type": "stream",
     "text": [
      "[1. 1. 1. 1.]\n"
     ]
    }
   ],
   "source": [
    "# 4.Ones(1arg) - generate array of ones and by deafult give float output\n",
    "\n",
    "arr=np.ones(4,)\n",
    "print(arr)"
   ]
  },
  {
   "cell_type": "code",
   "execution_count": 32,
   "id": "3f7dca30",
   "metadata": {},
   "outputs": [
    {
     "name": "stdout",
     "output_type": "stream",
     "text": [
      "[8 6 8]\n"
     ]
    }
   ],
   "source": [
    "# 5.random.randint() - return random integer from start(inclusive), end(exclusive), no of samples\n",
    "\n",
    "arr=np.random.randint(5,10,3)\n",
    "print(arr)"
   ]
  },
  {
   "cell_type": "code",
   "execution_count": 33,
   "id": "c2052e28",
   "metadata": {},
   "outputs": [],
   "source": [
    "# 6.tolist()"
   ]
  },
  {
   "cell_type": "markdown",
   "id": "7d75dd0e",
   "metadata": {},
   "source": [
    "#### 1.1.2.2 Extraction"
   ]
  },
  {
   "cell_type": "code",
   "execution_count": 35,
   "id": "03867fd2",
   "metadata": {},
   "outputs": [],
   "source": [
    "import numpy as np\n",
    "arr=np.array([10,21,34,85,54,91])"
   ]
  },
  {
   "cell_type": "code",
   "execution_count": 37,
   "id": "2cdde3c7",
   "metadata": {},
   "outputs": [
    {
     "name": "stdout",
     "output_type": "stream",
     "text": [
      "10\n",
      "91\n"
     ]
    }
   ],
   "source": [
    "# single value\n",
    "print(arr[0])\n",
    "print(arr[5])"
   ]
  },
  {
   "cell_type": "code",
   "execution_count": null,
   "id": "7e463cea",
   "metadata": {},
   "outputs": [
    {
     "name": "stdout",
     "output_type": "stream",
     "text": [
      "[10 21 34]\n",
      "[21 85]\n"
     ]
    }
   ],
   "source": [
    "# multiple values - slicing\n",
    "print(arr[0:3])\n",
    "print(arr[1:5:2])"
   ]
  },
  {
   "cell_type": "code",
   "execution_count": 40,
   "id": "15c05023",
   "metadata": {},
   "outputs": [
    {
     "name": "stdout",
     "output_type": "stream",
     "text": [
      "[21 85 91]\n"
     ]
    }
   ],
   "source": [
    "# multiple values - indexing\n",
    "print(arr[[1,3,5]])"
   ]
  },
  {
   "cell_type": "code",
   "execution_count": 41,
   "id": "9135607b",
   "metadata": {},
   "outputs": [
    {
     "name": "stdout",
     "output_type": "stream",
     "text": [
      "[85 54 91]\n"
     ]
    }
   ],
   "source": [
    "# multiple values - condtion based\n",
    "print(arr[arr>40])"
   ]
  },
  {
   "cell_type": "markdown",
   "id": "959934a1",
   "metadata": {},
   "source": [
    "#### 1.1.2.3 Modification"
   ]
  },
  {
   "cell_type": "code",
   "execution_count": null,
   "id": "6230ce13",
   "metadata": {},
   "outputs": [],
   "source": [
    "import numpy as np\n",
    "arr=np.array([10,1,34,85,54,9])"
   ]
  },
  {
   "cell_type": "code",
   "execution_count": 45,
   "id": "ac8648be",
   "metadata": {},
   "outputs": [
    {
     "data": {
      "text/plain": [
       "array([ 10,  21,  34,  85,  54,  91, 100])"
      ]
     },
     "execution_count": 45,
     "metadata": {},
     "output_type": "execute_result"
    }
   ],
   "source": [
    "# adding single value\n",
    "np.append(arr,100)"
   ]
  },
  {
   "cell_type": "code",
   "execution_count": 46,
   "id": "d871a91b",
   "metadata": {},
   "outputs": [
    {
     "data": {
      "text/plain": [
       "array([10, 21, 34, 85, 54, 91, 20, 40])"
      ]
     },
     "execution_count": 46,
     "metadata": {},
     "output_type": "execute_result"
    }
   ],
   "source": [
    "# adding multiple items\n",
    "np.append(arr,[20,40])"
   ]
  },
  {
   "cell_type": "code",
   "execution_count": 48,
   "id": "6b63dc2a",
   "metadata": {},
   "outputs": [
    {
     "name": "stdout",
     "output_type": "stream",
     "text": [
      "[10 21 30 85 54 91]\n"
     ]
    }
   ],
   "source": [
    "# replace single item\n",
    "arr[2]=30\n",
    "print(arr)"
   ]
  },
  {
   "cell_type": "code",
   "execution_count": 50,
   "id": "0c7bd80f",
   "metadata": {},
   "outputs": [
    {
     "ename": "IndexError",
     "evalue": "too many indices for array: array is 1-dimensional, but 2 were indexed",
     "output_type": "error",
     "traceback": [
      "\u001b[0;31m---------------------------------------------------------------------------\u001b[0m",
      "\u001b[0;31mIndexError\u001b[0m                                Traceback (most recent call last)",
      "Cell \u001b[0;32mIn[50], line 2\u001b[0m\n\u001b[1;32m      1\u001b[0m \u001b[38;5;66;03m# replace multiple index with single no.\u001b[39;00m\n\u001b[0;32m----> 2\u001b[0m \u001b[43marr\u001b[49m\u001b[43m[\u001b[49m\u001b[38;5;241;43m2\u001b[39;49m\u001b[43m,\u001b[49m\u001b[38;5;241;43m3\u001b[39;49m\u001b[43m]\u001b[49m\u001b[38;5;241m=\u001b[39m\u001b[38;5;241m11\u001b[39m\n\u001b[1;32m      3\u001b[0m \u001b[38;5;28mprint\u001b[39m(arr)\n",
      "\u001b[0;31mIndexError\u001b[0m: too many indices for array: array is 1-dimensional, but 2 were indexed"
     ]
    }
   ],
   "source": [
    "# replace multiple index with single no.\n",
    "arr[2,3]=11\n",
    "print(arr)"
   ]
  },
  {
   "cell_type": "code",
   "execution_count": 58,
   "id": "f96f4c82",
   "metadata": {},
   "outputs": [
    {
     "ename": "IndexError",
     "evalue": "too many indices for array: array is 1-dimensional, but 2 were indexed",
     "output_type": "error",
     "traceback": [
      "\u001b[0;31m---------------------------------------------------------------------------\u001b[0m",
      "\u001b[0;31mIndexError\u001b[0m                                Traceback (most recent call last)",
      "Cell \u001b[0;32mIn[58], line 2\u001b[0m\n\u001b[1;32m      1\u001b[0m \u001b[38;5;66;03m# replace multiple index with multiple no.\u001b[39;00m\n\u001b[0;32m----> 2\u001b[0m \u001b[43marr\u001b[49m\u001b[43m[\u001b[49m\u001b[38;5;241;43m0\u001b[39;49m\u001b[43m,\u001b[49m\u001b[38;5;241;43m1\u001b[39;49m\u001b[43m]\u001b[49m\u001b[38;5;241m=\u001b[39m[\u001b[38;5;241m10\u001b[39m,\u001b[38;5;241m20\u001b[39m]\n",
      "\u001b[0;31mIndexError\u001b[0m: too many indices for array: array is 1-dimensional, but 2 were indexed"
     ]
    }
   ],
   "source": [
    "# replace multiple index with multiple no.\n",
    "arr[0,1]=[10,20]\n"
   ]
  },
  {
   "cell_type": "markdown",
   "id": "7b6b973d",
   "metadata": {},
   "source": [
    "#### 1.1.2.4 Deletion"
   ]
  },
  {
   "cell_type": "code",
   "execution_count": null,
   "id": "fa0d58b8",
   "metadata": {},
   "outputs": [
    {
     "data": {
      "text/plain": [
       "array([10, 21, 85, 54, 91])"
      ]
     },
     "execution_count": 57,
     "metadata": {},
     "output_type": "execute_result"
    }
   ],
   "source": [
    "# dingle value\n",
    "np.delete(arr,2)"
   ]
  },
  {
   "cell_type": "code",
   "execution_count": 59,
   "id": "46d728f7",
   "metadata": {},
   "outputs": [
    {
     "data": {
      "text/plain": [
       "array([30, 85, 54, 91])"
      ]
     },
     "execution_count": 59,
     "metadata": {},
     "output_type": "execute_result"
    }
   ],
   "source": [
    "# multiple value\n",
    "np.delete(arr,[0,1])"
   ]
  }
 ],
 "metadata": {
  "kernelspec": {
   "display_name": "Python 3",
   "language": "python",
   "name": "python3"
  },
  "language_info": {
   "codemirror_mode": {
    "name": "ipython",
    "version": 3
   },
   "file_extension": ".py",
   "mimetype": "text/x-python",
   "name": "python",
   "nbconvert_exporter": "python",
   "pygments_lexer": "ipython3",
   "version": "3.10.16"
  }
 },
 "nbformat": 4,
 "nbformat_minor": 5
}
