{
 "cells": [
  {
   "cell_type": "markdown",
   "id": "405c2267",
   "metadata": {},
   "source": [
    "## NUMPY\n",
    "- stands for numerical python\n",
    "- used for data manipulation (means somthing we have to do on data).\n",
    "- it basically focuses on row,\n",
    "    - 1 row = 1D Numpy array\n",
    "    - 2 rows = 2D Numpy array"
   ]
  },
  {
   "cell_type": "markdown",
   "id": "3e099a0f",
   "metadata": {},
   "source": [
    "### **1. Array**\n",
    "- An array in Python is a way to store multiple values in a single variable. \n",
    "- Python doesn’t have a built-in array data type like some other languages thats why to use we need to import array module.\n",
    "- By deafult apply for loop - for each value in array\n",
    "- If the original array contains a string, all other elements are automatically converted to strings after printing. **str > float > int > bool**\n",
    "- Nested array is not possible as every item in array should be either fundamental or advance datatype not mix of them.\n",
    "- If a list items printed without comma then it is array."
   ]
  },
  {
   "cell_type": "markdown",
   "id": "71a46528",
   "metadata": {},
   "source": [
    "#### **1.1 Ways to use array**"
   ]
  },
  {
   "cell_type": "markdown",
   "id": "dc68c16b",
   "metadata": {},
   "source": [
    "#### **1.1.1 By array module**"
   ]
  },
  {
   "cell_type": "markdown",
   "id": "7a24e17f",
   "metadata": {},
   "source": [
    "- syntax \n",
    "    <pre>\n",
    "    import array as arr\n",
    "    array_name = arr . array_function('datatype' , [list of item])\n",
    "    print(array_name)\n",
    "    <pre>\n",
    "\n",
    "- only support basic types \n",
    "    - 'i' : signed integer\n",
    "    - 'f' : float\n",
    "    - 'd' : double"
   ]
  },
  {
   "cell_type": "code",
   "execution_count": null,
   "id": "c76d2232",
   "metadata": {},
   "outputs": [
    {
     "name": "stdout",
     "output_type": "stream",
     "text": [
      "array('f', [1.0, 2.0, 3.0, 4.0])\n"
     ]
    }
   ],
   "source": [
    "# array module\n",
    "\n",
    "import array as arr\n",
    "a=arr.array('f',[1,2,3,4])\n",
    "print(a)"
   ]
  },
  {
   "cell_type": "markdown",
   "id": "89aa4fcc",
   "metadata": {},
   "source": [
    "#### **1.1.2 By numpy array**\n",
    "- syntax\n",
    "\n",
    "    <pre>\n",
    "    import numpy as np\n",
    "    array_name = np . array_function([list of items])\n",
    "    print(array_name)\n",
    "    <pre>\n",
    "\n",
    "- Creation\n",
    "    1. array()\n",
    "    2. arange()\n",
    "    3. zeros()\n",
    "    4. ones()\n",
    "    5. random.randint()\n",
    "    6. tolist()\n",
    "\n",
    "- Extraction\n",
    "    - accessing single value - indexing\n",
    "    - accessing multiple values if they have pattern - slicing \n",
    "    - accessing multiple values if they have no pattern - indexing - array[[list of index number]]\n",
    "    - accessing single or multiple values based on condition - array[condition]\n",
    "\n",
    "- Modification\n",
    "    1. Adding\n",
    "        - Single value --> np.append(array_name , value)\n",
    "        - Multiple values --> np.append(array_name , [list of items])\n",
    "\n",
    "    2. Replace\n",
    "        - Single value --> array_name[index]\n",
    "        - Multiple index with single value --> array_name[[list of index no.]]\n",
    "        - Multiple index with multiple values --> array_name[[list of index no.]] = [list of number] \n",
    "\n",
    "    3. Deletion\n",
    "        - Single value --> np.delete(array_name , index no)\n",
    "        - Multiple values --> np.delete(array_name , [multiple index no.])\n"
   ]
  },
  {
   "cell_type": "markdown",
   "id": "3ca9f938",
   "metadata": {},
   "source": [
    "#### **1.1.2.1 Creation**"
   ]
  },
  {
   "cell_type": "code",
   "execution_count": 27,
   "id": "ea471c06",
   "metadata": {},
   "outputs": [],
   "source": [
    "import numpy as np"
   ]
  },
  {
   "cell_type": "code",
   "execution_count": 28,
   "id": "7826362e",
   "metadata": {},
   "outputs": [
    {
     "name": "stdout",
     "output_type": "stream",
     "text": [
      "[1 2 3]\n"
     ]
    }
   ],
   "source": [
    "# 1.array()\n",
    "\n",
    "a=np.array([1,2,3])\n",
    "print(a)"
   ]
  },
  {
   "cell_type": "code",
   "execution_count": 29,
   "id": "57528f74",
   "metadata": {},
   "outputs": [
    {
     "name": "stdout",
     "output_type": "stream",
     "text": [
      "[1 4]\n"
     ]
    }
   ],
   "source": [
    "# 2.arange()\n",
    "\n",
    "arr=np.arange(1,5,3)\n",
    "print(arr)"
   ]
  },
  {
   "cell_type": "code",
   "execution_count": 30,
   "id": "d2d834ab",
   "metadata": {},
   "outputs": [
    {
     "name": "stdout",
     "output_type": "stream",
     "text": [
      "[0. 0. 0. 0.]\n"
     ]
    }
   ],
   "source": [
    "# 3.Zeros(1arg) - generate array of zeros and by deafult give float output\n",
    "\n",
    "arr=np.zeros(4,) \n",
    "print(arr)"
   ]
  },
  {
   "cell_type": "code",
   "execution_count": 31,
   "id": "b131e3c9",
   "metadata": {},
   "outputs": [
    {
     "name": "stdout",
     "output_type": "stream",
     "text": [
      "[1. 1. 1. 1.]\n"
     ]
    }
   ],
   "source": [
    "# 4.Ones(1arg) - generate array of ones and by deafult give float output\n",
    "\n",
    "arr=np.ones(4,)\n",
    "print(arr)"
   ]
  },
  {
   "cell_type": "code",
   "execution_count": 32,
   "id": "3f7dca30",
   "metadata": {},
   "outputs": [
    {
     "name": "stdout",
     "output_type": "stream",
     "text": [
      "[8 6 8]\n"
     ]
    }
   ],
   "source": [
    "# 5.random.randint() - return random integer from start(inclusive), end(exclusive), no of samples\n",
    "\n",
    "arr=np.random.randint(5,10,3)\n",
    "print(arr)"
   ]
  },
  {
   "cell_type": "code",
   "execution_count": 33,
   "id": "c2052e28",
   "metadata": {},
   "outputs": [],
   "source": [
    "# 6.tolist()"
   ]
  },
  {
   "cell_type": "markdown",
   "id": "7d75dd0e",
   "metadata": {},
   "source": [
    "#### **1.1.2.2 Extraction**"
   ]
  },
  {
   "cell_type": "code",
   "execution_count": 35,
   "id": "03867fd2",
   "metadata": {},
   "outputs": [],
   "source": [
    "import numpy as np\n",
    "arr=np.array([10,21,34,85,54,91])"
   ]
  },
  {
   "cell_type": "code",
   "execution_count": 37,
   "id": "2cdde3c7",
   "metadata": {},
   "outputs": [
    {
     "name": "stdout",
     "output_type": "stream",
     "text": [
      "10\n",
      "91\n"
     ]
    }
   ],
   "source": [
    "# single value\n",
    "print(arr[0])\n",
    "print(arr[5])"
   ]
  },
  {
   "cell_type": "code",
   "execution_count": null,
   "id": "7e463cea",
   "metadata": {},
   "outputs": [
    {
     "name": "stdout",
     "output_type": "stream",
     "text": [
      "[10 21 34]\n",
      "[21 85]\n"
     ]
    }
   ],
   "source": [
    "# multiple values - slicing\n",
    "print(arr[0:3])\n",
    "print(arr[1:5:2])"
   ]
  },
  {
   "cell_type": "code",
   "execution_count": 40,
   "id": "15c05023",
   "metadata": {},
   "outputs": [
    {
     "name": "stdout",
     "output_type": "stream",
     "text": [
      "[21 85 91]\n"
     ]
    }
   ],
   "source": [
    "# multiple values - indexing\n",
    "print(arr[[1,3,5]])"
   ]
  },
  {
   "cell_type": "code",
   "execution_count": 11,
   "id": "9135607b",
   "metadata": {},
   "outputs": [
    {
     "name": "stdout",
     "output_type": "stream",
     "text": [
      "[False False False  True  True False]\n",
      "[85 54]\n"
     ]
    }
   ],
   "source": [
    "# multiple values - condtion based\n",
    "print(arr>40)\n",
    "print(arr[arr>40])"
   ]
  },
  {
   "cell_type": "markdown",
   "id": "959934a1",
   "metadata": {},
   "source": [
    "#### **1.1.2.3 Modification**"
   ]
  },
  {
   "cell_type": "code",
   "execution_count": 16,
   "id": "6230ce13",
   "metadata": {},
   "outputs": [],
   "source": [
    "import numpy as np\n",
    "arr=np.array([10,1,34,85,54,9])"
   ]
  },
  {
   "cell_type": "code",
   "execution_count": null,
   "id": "ac8648be",
   "metadata": {},
   "outputs": [
    {
     "data": {
      "text/plain": [
       "array([ 10,  21,  34,  85,  54,  91, 100])"
      ]
     },
     "execution_count": 45,
     "metadata": {},
     "output_type": "execute_result"
    }
   ],
   "source": [
    "# adding single value ---> np.append(array_name , value)\n",
    "np.append(arr,100)"
   ]
  },
  {
   "cell_type": "code",
   "execution_count": null,
   "id": "d871a91b",
   "metadata": {},
   "outputs": [
    {
     "data": {
      "text/plain": [
       "array([10, 21, 34, 85, 54, 91, 20, 40])"
      ]
     },
     "execution_count": 46,
     "metadata": {},
     "output_type": "execute_result"
    }
   ],
   "source": [
    "# adding multiple items ---> np.append(array_name , [list of values])\n",
    "np.append(arr,[20,40])"
   ]
  },
  {
   "cell_type": "code",
   "execution_count": null,
   "id": "6b63dc2a",
   "metadata": {},
   "outputs": [
    {
     "name": "stdout",
     "output_type": "stream",
     "text": [
      "[10 21 30 85 54 91]\n"
     ]
    }
   ],
   "source": [
    "# replace single item ---> array_name[index no.] = value\n",
    "arr[2]=30\n",
    "print(arr)"
   ]
  },
  {
   "cell_type": "code",
   "execution_count": 18,
   "id": "0c7bd80f",
   "metadata": {},
   "outputs": [
    {
     "name": "stdout",
     "output_type": "stream",
     "text": [
      "[10  1 11 11 54  9]\n",
      "[10  1 11 11 54  9]\n"
     ]
    }
   ],
   "source": [
    "# replace multiple index with single no. ---> array_name[[list of index no]] = value\n",
    "arr[[2,3]]=11\n",
    "print(arr)\n",
    "\n",
    "# or\n",
    "\n",
    "a = [2,3]\n",
    "arr[a] = 11\n",
    "print(arr)"
   ]
  },
  {
   "cell_type": "code",
   "execution_count": null,
   "id": "f96f4c82",
   "metadata": {},
   "outputs": [
    {
     "name": "stdout",
     "output_type": "stream",
     "text": [
      "[10 20 11 11 54  9]\n"
     ]
    }
   ],
   "source": [
    "# replace multiple index with multiple no. ---> array_name[[list of index no.]] = [list of values]\n",
    "arr[[0,1]]=[10,20]\n",
    "print(arr)"
   ]
  },
  {
   "cell_type": "markdown",
   "id": "7b6b973d",
   "metadata": {},
   "source": [
    "#### **1.1.2.4 Deletion**"
   ]
  },
  {
   "cell_type": "code",
   "execution_count": null,
   "id": "fa0d58b8",
   "metadata": {},
   "outputs": [
    {
     "data": {
      "text/plain": [
       "array([10, 21, 85, 54, 91])"
      ]
     },
     "execution_count": 57,
     "metadata": {},
     "output_type": "execute_result"
    }
   ],
   "source": [
    "# single value - np.delete( array_name , index no)\n",
    "np.delete(arr,2)"
   ]
  },
  {
   "cell_type": "code",
   "execution_count": null,
   "id": "46d728f7",
   "metadata": {},
   "outputs": [
    {
     "data": {
      "text/plain": [
       "array([30, 85, 54, 91])"
      ]
     },
     "execution_count": 59,
     "metadata": {},
     "output_type": "execute_result"
    }
   ],
   "source": [
    "# multiple value - np.delete(array_name , [list of index no.])\n",
    "np.delete(arr,[0,1])"
   ]
  },
  {
   "cell_type": "markdown",
   "id": "22b569a5",
   "metadata": {},
   "source": [
    "#### **1.1.2.5 Sorting and Copy**"
   ]
  },
  {
   "cell_type": "code",
   "execution_count": null,
   "id": "6dc82f5b",
   "metadata": {},
   "outputs": [
    {
     "name": "stdout",
     "output_type": "stream",
     "text": [
      "[12 37 38 50 56]\n"
     ]
    }
   ],
   "source": [
    "# sorting\n",
    "arr=np.array([38,12,56,37,50])\n",
    "arr.sort()\n",
    "print(arr)"
   ]
  },
  {
   "cell_type": "code",
   "execution_count": null,
   "id": "d8a678cc",
   "metadata": {},
   "outputs": [
    {
     "name": "stdout",
     "output_type": "stream",
     "text": [
      "[12 37 38 50 56]\n",
      "[12 37 38 50 56]\n"
     ]
    }
   ],
   "source": [
    "# deep copy\n",
    "a= arr\n",
    "b=a\n",
    "print(a)\n",
    "print(b)"
   ]
  },
  {
   "cell_type": "code",
   "execution_count": 37,
   "id": "66f48cc0",
   "metadata": {},
   "outputs": [
    {
     "name": "stdout",
     "output_type": "stream",
     "text": [
      "[12 37 38 50 56]\n",
      "[ 12  37  38  50  56 100]\n"
     ]
    }
   ],
   "source": [
    "# shallow copy\n",
    "a=arr\n",
    "b=a.copy()\n",
    "b=np.append(b,100)\n",
    "print(a)\n",
    "print(b)"
   ]
  },
  {
   "cell_type": "markdown",
   "id": "ed6c8271",
   "metadata": {},
   "source": [
    "#### **1.1.2.6 Operations/ Applications**\n",
    "- It will check the shape of the array if it is same then only operation is possible otherwise not.\n",
    "- Every value of one array is compare to each value of other in order to operate.\n",
    "\n",
    "1. Arithmatic Operation\n",
    "2. Comparision Operation \n",
    "3. Mathematical operation "
   ]
  },
  {
   "cell_type": "code",
   "execution_count": null,
   "id": "5ad84126",
   "metadata": {},
   "outputs": [],
   "source": [
    "import numpy as np\n",
    "a1=np.array([1,2,3,4])\n",
    "a2=np.array([5,6,7,8])\n",
    "a3=np.array([10,20])\n",
    "a4=np.array([5,6,7,8])"
   ]
  },
  {
   "cell_type": "markdown",
   "id": "16da4c61",
   "metadata": {},
   "source": [
    "##### **1.1.2.6.1 Arithmatic Operation**"
   ]
  },
  {
   "cell_type": "code",
   "execution_count": 42,
   "id": "e224ad64",
   "metadata": {},
   "outputs": [
    {
     "name": "stdout",
     "output_type": "stream",
     "text": [
      "[11 12 13 14]\n"
     ]
    }
   ],
   "source": [
    "x= a1+10 # operation apply for each value of a1\n",
    "print(x)"
   ]
  },
  {
   "cell_type": "code",
   "execution_count": 44,
   "id": "fe356522",
   "metadata": {},
   "outputs": [
    {
     "name": "stdout",
     "output_type": "stream",
     "text": [
      "[ 5 12 21 32]\n"
     ]
    }
   ],
   "source": [
    "z=a1*a2\n",
    "print(z)"
   ]
  },
  {
   "cell_type": "code",
   "execution_count": null,
   "id": "6f87343a",
   "metadata": {},
   "outputs": [],
   "source": [
    "# y=a1+a3   # not possible as both array have different shapes"
   ]
  },
  {
   "cell_type": "markdown",
   "id": "76db87d9",
   "metadata": {},
   "source": [
    "##### **1.1.2.6.2 Comparision Operator**"
   ]
  },
  {
   "cell_type": "code",
   "execution_count": 49,
   "id": "2f2dda95",
   "metadata": {},
   "outputs": [
    {
     "data": {
      "text/plain": [
       "array([False, False, False, False])"
      ]
     },
     "execution_count": 49,
     "metadata": {},
     "output_type": "execute_result"
    }
   ],
   "source": [
    "a1==a2"
   ]
  },
  {
   "cell_type": "code",
   "execution_count": 53,
   "id": "165aec11",
   "metadata": {},
   "outputs": [
    {
     "data": {
      "text/plain": [
       "array([ True,  True,  True,  True])"
      ]
     },
     "execution_count": 53,
     "metadata": {},
     "output_type": "execute_result"
    }
   ],
   "source": [
    "a4>=a1"
   ]
  },
  {
   "cell_type": "code",
   "execution_count": 55,
   "id": "105d7481",
   "metadata": {},
   "outputs": [],
   "source": [
    "# a3==a1 # not possible coz differnt shape"
   ]
  },
  {
   "cell_type": "code",
   "execution_count": 57,
   "id": "daf8f550",
   "metadata": {},
   "outputs": [
    {
     "data": {
      "text/plain": [
       "False"
      ]
     },
     "execution_count": 57,
     "metadata": {},
     "output_type": "execute_result"
    }
   ],
   "source": [
    "# np.array_equal() ---> check overal all c=value of two array and return bool value.\n",
    "\n",
    "np.array_equal(a1,a2)"
   ]
  },
  {
   "cell_type": "code",
   "execution_count": 58,
   "id": "8b1d7551",
   "metadata": {},
   "outputs": [
    {
     "data": {
      "text/plain": [
       "True"
      ]
     },
     "execution_count": 58,
     "metadata": {},
     "output_type": "execute_result"
    }
   ],
   "source": [
    "np.array_equal(a2,a4)"
   ]
  },
  {
   "cell_type": "markdown",
   "id": "cb22fe76",
   "metadata": {},
   "source": [
    "##### **1.1.2.6.3 Mathematical Operation**"
   ]
  },
  {
   "cell_type": "code",
   "execution_count": null,
   "id": "38c83793",
   "metadata": {},
   "outputs": [
    {
     "data": {
      "text/plain": [
       "array([ 2.71828183,  7.3890561 , 20.08553692, 54.59815003])"
      ]
     },
     "execution_count": 59,
     "metadata": {},
     "output_type": "execute_result"
    }
   ],
   "source": [
    "# np.exp(array_name) ---> return e**array_name for each value\n",
    "np.exp(a1)"
   ]
  },
  {
   "cell_type": "code",
   "execution_count": 60,
   "id": "bfb34607",
   "metadata": {},
   "outputs": [
    {
     "data": {
      "text/plain": [
       "array([2.30258509, 2.99573227])"
      ]
     },
     "execution_count": 60,
     "metadata": {},
     "output_type": "execute_result"
    }
   ],
   "source": [
    "# np.log(array_name) ---> return log(array_name) for each value \n",
    "np.log(a3)"
   ]
  }
 ],
 "metadata": {
  "kernelspec": {
   "display_name": "Python 3",
   "language": "python",
   "name": "python3"
  },
  "language_info": {
   "codemirror_mode": {
    "name": "ipython",
    "version": 3
   },
   "file_extension": ".py",
   "mimetype": "text/x-python",
   "name": "python",
   "nbconvert_exporter": "python",
   "pygments_lexer": "ipython3",
   "version": "3.10.16"
  }
 },
 "nbformat": 4,
 "nbformat_minor": 5
}
