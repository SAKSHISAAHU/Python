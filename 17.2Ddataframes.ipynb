{
 "cells": [
  {
   "cell_type": "markdown",
   "id": "fa1956a9",
   "metadata": {},
   "source": [
    "## 2D PANDAS DATAFRAMES\n",
    "- More than 1 column = 2D dataframes\n"
   ]
  },
  {
   "cell_type": "markdown",
   "id": "ecd397f4",
   "metadata": {},
   "source": [
    "### **1.1 Creation**\n",
    "1. list of lists\n",
    "2. 2D array\n",
    "3. dictionary\n",
    "4. transpose\n",
    "5. missing value"
   ]
  },
  {
   "cell_type": "code",
   "execution_count": 1,
   "id": "79de84a4",
   "metadata": {},
   "outputs": [
    {
     "name": "stdout",
     "output_type": "stream",
     "text": [
      "    0   1   2\n",
      "0  10  20  30\n",
      "1  40  50  60\n"
     ]
    }
   ],
   "source": [
    "# from list of lists ----- items will store in rows\n",
    "import pandas as pd\n",
    "l=[[10,20,30],[40,50,60]]\n",
    "df=pd.DataFrame(l)\n",
    "print(df)"
   ]
  },
  {
   "cell_type": "code",
   "execution_count": 2,
   "id": "a2d7ea6c",
   "metadata": {},
   "outputs": [
    {
     "name": "stdout",
     "output_type": "stream",
     "text": [
      "    c1  c2  c3\n",
      "r1   1   2   3\n",
      "r2   4   5   6\n"
     ]
    }
   ],
   "source": [
    "# from 2D array\n",
    "import  numpy as np\n",
    "import pandas as pd\n",
    "a=np.array([[1,2,3],[4,5,6]])\n",
    "df=pd.DataFrame(a, columns=['c1','c2','c3'] , index=['r1','r2'])\n",
    "print(df)"
   ]
  },
  {
   "cell_type": "code",
   "execution_count": 3,
   "id": "65b5e7c3",
   "metadata": {},
   "outputs": [
    {
     "name": "stdout",
     "output_type": "stream",
     "text": [
      "   x  y  z\n",
      "0  1  4  7\n",
      "1  2  5  8\n",
      "2  3  6  9\n"
     ]
    }
   ],
   "source": [
    "# using Dictionary ----- items will store as column\n",
    "import pandas as pd\n",
    "d={'x':[1,2,3],'y':[4,5,6],'z':[7,8,9]}\n",
    "df=pd.DataFrame(d)\n",
    "print(df)"
   ]
  },
  {
   "cell_type": "code",
   "execution_count": 4,
   "id": "7a0c17c6",
   "metadata": {},
   "outputs": [
    {
     "data": {
      "text/html": [
       "<div>\n",
       "<style scoped>\n",
       "    .dataframe tbody tr th:only-of-type {\n",
       "        vertical-align: middle;\n",
       "    }\n",
       "\n",
       "    .dataframe tbody tr th {\n",
       "        vertical-align: top;\n",
       "    }\n",
       "\n",
       "    .dataframe thead th {\n",
       "        text-align: right;\n",
       "    }\n",
       "</style>\n",
       "<table border=\"1\" class=\"dataframe\">\n",
       "  <thead>\n",
       "    <tr style=\"text-align: right;\">\n",
       "      <th></th>\n",
       "      <th>0</th>\n",
       "      <th>1</th>\n",
       "    </tr>\n",
       "  </thead>\n",
       "  <tbody>\n",
       "    <tr>\n",
       "      <th>0</th>\n",
       "      <td>10</td>\n",
       "      <td>40</td>\n",
       "    </tr>\n",
       "    <tr>\n",
       "      <th>1</th>\n",
       "      <td>20</td>\n",
       "      <td>50</td>\n",
       "    </tr>\n",
       "    <tr>\n",
       "      <th>2</th>\n",
       "      <td>30</td>\n",
       "      <td>60</td>\n",
       "    </tr>\n",
       "  </tbody>\n",
       "</table>\n",
       "</div>"
      ],
      "text/plain": [
       "    0   1\n",
       "0  10  40\n",
       "1  20  50\n",
       "2  30  60"
      ]
     },
     "execution_count": 4,
     "metadata": {},
     "output_type": "execute_result"
    }
   ],
   "source": [
    "# transpose ----- rows to columns or columns to rows\n",
    "import pandas as pd\n",
    "l=[[10,20,30],[40,50,60]]\n",
    "df=pd.DataFrame(l)\n",
    "df.T"
   ]
  },
  {
   "cell_type": "code",
   "execution_count": 5,
   "id": "0ecdc367",
   "metadata": {},
   "outputs": [
    {
     "name": "stdout",
     "output_type": "stream",
     "text": [
      "   0    1  2\n",
      "0  1  NaN  2\n",
      "1  4    5  6\n",
      "2  7  sam  9\n",
      "       0      1      2\n",
      "0  False   True  False\n",
      "1  False  False  False\n",
      "2  False  False  False\n"
     ]
    }
   ],
   "source": [
    "# missing value ----- np.nan \n",
    "import numpy as np\n",
    "import pandas as pd\n",
    "l=[[1,np.nan,2],[4,5,6],[7,'sam',9]]\n",
    "df=pd.DataFrame(l)\n",
    "print(df)\n",
    "x=df.isnull()\n",
    "print(x)"
   ]
  },
  {
   "cell_type": "markdown",
   "id": "90d5b2e2",
   "metadata": {},
   "source": [
    "### **1.2 Extraction**\n",
    "1. Single value\n",
    "2. Single row\n",
    "3. Single column\n",
    "    1. pattern\n",
    "    2. no pattern\n",
    "4. Multiple row\n",
    "5. Multiple column\n",
    "    1. pattern\n",
    "    2. no pattern\n",
    "6. reverse printing row/column\n",
    "7. Multiple row and multiple column"
   ]
  },
  {
   "cell_type": "code",
   "execution_count": 20,
   "id": "cbd24e6a",
   "metadata": {},
   "outputs": [
    {
     "name": "stdout",
     "output_type": "stream",
     "text": [
      "    c1  c2  c3\n",
      "r1  10  20  30\n",
      "r2  40  50  60\n",
      "r3  70  80  90\n"
     ]
    }
   ],
   "source": [
    "import pandas as pd\n",
    "df=pd.DataFrame([[10,20,30],[40,50,60],[70,80,90]], index=['r1','r2','r3'] , columns=['c1','c2','c3'])\n",
    "print(df)"
   ]
  },
  {
   "cell_type": "code",
   "execution_count": 7,
   "id": "539413f9",
   "metadata": {},
   "outputs": [
    {
     "name": "stdout",
     "output_type": "stream",
     "text": [
      "30\n"
     ]
    }
   ],
   "source": [
    "# single value\n",
    "print(df.iloc[0,2])"
   ]
  },
  {
   "cell_type": "code",
   "execution_count": 31,
   "id": "6464ae5c",
   "metadata": {},
   "outputs": [
    {
     "name": "stdout",
     "output_type": "stream",
     "text": [
      "c1    40\n",
      "c2    50\n",
      "c3    60\n",
      "Name: r2, dtype: int64\n",
      "c1    70\n",
      "c2    80\n",
      "c3    90\n",
      "Name: r3, dtype: int64\n",
      "r1    30\n",
      "r2    60\n",
      "r3    90\n",
      "Name: c3, dtype: int64\n",
      "r1    20\n",
      "r2    50\n",
      "r3    80\n",
      "Name: c2, dtype: int64\n"
     ]
    }
   ],
   "source": [
    "# single row\n",
    "# 1.\n",
    "print(df.iloc[1,:])\n",
    "# 2. \n",
    "print(df.loc['r3']) \n",
    "\n",
    "\n",
    "# single column\n",
    "# 1.\n",
    "print(df.iloc[:,2])\n",
    "# 2.\n",
    "print(df['c2']) # always write column name as it is dataframe == columns"
   ]
  },
  {
   "cell_type": "code",
   "execution_count": 37,
   "id": "8b9e1000",
   "metadata": {},
   "outputs": [
    {
     "name": "stdout",
     "output_type": "stream",
     "text": [
      "    c1  c2  c3\n",
      "r1  10  20  30\n",
      "r2  40  50  60\n",
      "    c1  c2  c3\n",
      "r1  10  20  30\n",
      "r2  40  50  60\n",
      "    c1\n",
      "r1  10\n",
      "r2  40\n",
      "r3  70\n"
     ]
    }
   ],
   "source": [
    "#slicing\n",
    "\n",
    "# multiple row\n",
    "print(df.iloc[0:2,:])\n",
    "print(df.loc['r1':'r2'])\n",
    "#multiple column\n",
    "print(df.iloc[:,0:1])"
   ]
  },
  {
   "cell_type": "code",
   "execution_count": 43,
   "id": "52886ec1",
   "metadata": {},
   "outputs": [
    {
     "name": "stdout",
     "output_type": "stream",
     "text": [
      "    c1  c2  c3\n",
      "r2  40  50  60\n",
      "r3  70  80  90\n",
      "r1    10\n",
      "r2    40\n",
      "r3    70\n",
      "Name: c1, dtype: int64\n",
      "    c2  c3\n",
      "r1  20  30\n",
      "r2  50  60\n",
      "r3  80  90\n",
      "    c2\n",
      "r1  20\n",
      "r2  50\n",
      "r3  80\n",
      "    c1  c2\n",
      "r1  10  20\n",
      "r2  40  50\n",
      "r3  70  80\n"
     ]
    }
   ],
   "source": [
    "# indexing\n",
    "\n",
    "# multiple row\n",
    "print(df.iloc[[1,2], : ])\n",
    "# multiple column\n",
    "print(df['c1'])\n",
    "print(df.iloc[:,[1,2]])\n",
    "print(df.iloc[:,1:2])\n",
    "print(df.loc[:,'c1':'c2'])"
   ]
  },
  {
   "cell_type": "code",
   "execution_count": 11,
   "id": "1c8c0b48",
   "metadata": {},
   "outputs": [
    {
     "name": "stdout",
     "output_type": "stream",
     "text": [
      "2    80\n",
      "1    50\n",
      "0    20\n",
      "Name: b, dtype: int64\n",
      "c    30\n",
      "b    20\n",
      "a    10\n",
      "Name: 0, dtype: int64\n"
     ]
    }
   ],
   "source": [
    "# reverse printing row\n",
    "print(df.iloc[::-1,1])\n",
    "\n",
    "# reverse printing column\n",
    "print(df.iloc[0,::-1])"
   ]
  },
  {
   "cell_type": "code",
   "execution_count": 12,
   "id": "25717809",
   "metadata": {},
   "outputs": [
    {
     "name": "stdout",
     "output_type": "stream",
     "text": [
      "    a   b\n",
      "1  40  50\n",
      "2  70  80\n"
     ]
    }
   ],
   "source": [
    "# multiple row and multiple column\n",
    "\n",
    "print(df.iloc[[1,2],[0,1]])"
   ]
  },
  {
   "cell_type": "code",
   "execution_count": null,
   "id": "a6982d9c",
   "metadata": {},
   "outputs": [],
   "source": []
  }
 ],
 "metadata": {
  "kernelspec": {
   "display_name": "Python 3",
   "language": "python",
   "name": "python3"
  },
  "language_info": {
   "codemirror_mode": {
    "name": "ipython",
    "version": 3
   },
   "file_extension": ".py",
   "mimetype": "text/x-python",
   "name": "python",
   "nbconvert_exporter": "python",
   "pygments_lexer": "ipython3",
   "version": "3.10.16"
  }
 },
 "nbformat": 4,
 "nbformat_minor": 5
}
