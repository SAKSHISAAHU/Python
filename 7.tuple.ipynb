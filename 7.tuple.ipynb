{
 "cells": [
  {
   "cell_type": "markdown",
   "id": "2f246128",
   "metadata": {},
   "source": [
    "# TUPLES\n",
    "- indexing\n",
    "- slicing\n",
    "- concatinating\n",
    "- method\n",
    "- **IMP**"
   ]
  },
  {
   "cell_type": "markdown",
   "id": "85426a6b",
   "metadata": {},
   "source": [
    "### **tuple indexing**"
   ]
  },
  {
   "cell_type": "code",
   "execution_count": 12,
   "id": "9fafa64c",
   "metadata": {},
   "outputs": [
    {
     "name": "stdout",
     "output_type": "stream",
     "text": [
      "6\n",
      "(10, 1)\n",
      "10\n"
     ]
    }
   ],
   "source": [
    "t=(1,2,3,(4,(10,1),5),6,[7,8],{9,10})\n",
    "print(t[4])\n",
    "print(t[3][1])\n",
    "print(t[3][1][0])\n",
    "# print(t[6][1])  # set dosent have indexing "
   ]
  },
  {
   "cell_type": "markdown",
   "id": "d10fa5c5",
   "metadata": {},
   "source": [
    "### **tuple slicing**"
   ]
  },
  {
   "cell_type": "code",
   "execution_count": null,
   "id": "0f9ea575",
   "metadata": {},
   "outputs": [
    {
     "data": {
      "text/plain": [
       "()"
      ]
     },
     "execution_count": 23,
     "metadata": {},
     "output_type": "execute_result"
    }
   ],
   "source": [
    "t=(1,2,3,4,5,6,7,8,9,10)\n",
    "print(t[1:6])\n",
    "print(t[-2:4]) # as by dealfult the direction for slicing is in positive indexing"
   ]
  },
  {
   "cell_type": "markdown",
   "id": "2edd7d37",
   "metadata": {},
   "source": [
    "### **tuple concatination**"
   ]
  },
  {
   "cell_type": "code",
   "execution_count": 24,
   "id": "1de9bf59",
   "metadata": {},
   "outputs": [
    {
     "data": {
      "text/plain": [
       "[1, 2, 3, 4, 5, 6]"
      ]
     },
     "execution_count": 24,
     "metadata": {},
     "output_type": "execute_result"
    }
   ],
   "source": [
    "t1=[1,2,3]\n",
    "t2=[4,5,6]\n",
    "t1+t2"
   ]
  },
  {
   "cell_type": "markdown",
   "id": "eb2d7c95",
   "metadata": {},
   "source": [
    "### **tuple method**\n",
    "- index()\n",
    "- count()\n",
    "\n",
    "*we cant add,remove and replace item from tuple as it is immutable, we can only delete the entire object using \"del\" keyword.*"
   ]
  },
  {
   "cell_type": "code",
   "execution_count": 3,
   "id": "17ad2ecf",
   "metadata": {},
   "outputs": [
    {
     "name": "stdout",
     "output_type": "stream",
     "text": [
      "2\n"
     ]
    }
   ],
   "source": [
    "# index()\n",
    "t=[11,2.5,True,1,\"srk\",(10,20),1]\n",
    "print(t.index(True))"
   ]
  },
  {
   "cell_type": "code",
   "execution_count": 1,
   "id": "eb5aacda",
   "metadata": {},
   "outputs": [
    {
     "name": "stdout",
     "output_type": "stream",
     "text": [
      "3\n",
      "0\n"
     ]
    }
   ],
   "source": [
    "# count\n",
    "t=[11,2.5,True,1,\"srk\",(10,20),1]\n",
    "print(t.count(1)) # true also counts \n",
    "print(t.count(3))"
   ]
  },
  {
   "cell_type": "markdown",
   "id": "0fd776bf",
   "metadata": {},
   "source": [
    "# IMP"
   ]
  },
  {
   "cell_type": "code",
   "execution_count": 1,
   "id": "128dc9fe",
   "metadata": {},
   "outputs": [],
   "source": [
    "t1=[11,15,20,[23,24],30,37]\n",
    "t1[3][0]=50  # it is change the value but not store in the variable coz as we print the original tuple only print. clearly can be seen using variable table \n",
    "\n",
    "t2=[]"
   ]
  }
 ],
 "metadata": {
  "kernelspec": {
   "display_name": "Python 3",
   "language": "python",
   "name": "python3"
  },
  "language_info": {
   "codemirror_mode": {
    "name": "ipython",
    "version": 3
   },
   "file_extension": ".py",
   "mimetype": "text/x-python",
   "name": "python",
   "nbconvert_exporter": "python",
   "pygments_lexer": "ipython3",
   "version": "3.10.16"
  }
 },
 "nbformat": 4,
 "nbformat_minor": 5
}
