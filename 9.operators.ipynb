{
 "cells": [
  {
   "cell_type": "markdown",
   "id": "faa601d1",
   "metadata": {},
   "source": [
    "# OPERATORS\n",
    "they are the special character or keyword used to perform a specific operations.\n",
    "\n",
    "1. Arithmetic operators\n",
    "2. Assignment operators\n",
    "3. Comparision operators\n",
    "4. Logical operators\n",
    "5. Identity operators\n",
    "6. Membership operators\n",
    "\n",
    "- precedence order of operator is 1 > 3 > 6 > 5 > 4 > 2"
   ]
  },
  {
   "cell_type": "markdown",
   "id": "cb730e4a",
   "metadata": {},
   "source": [
    "### **1. Arithmatic Operators**\n",
    "used to perform arthimatic operations.\n",
    "1. Add +                    \n",
    "2. Subtract -               \n",
    "3. multiply *\n",
    "4. division /    (nrml division returns quoitent in float value)\n",
    "5. float division //    (returns quoitent but everything before decimal)\n",
    "6. exponantial or power **\n",
    "7. modolus %     (returns remainder)\n",
    "\n",
    "- precedence order is BODMAS.\n",
    "- when we apply division the output will always be float.\n",
    "- when atleast 1 value is float then the output will also be float. *e.g- 2.0 + 10 = 12.0*\n",
    "- **when arithmatic operation is applied on **bool values** then it automatically will convert into int.** *e.g- True + True = 2*\n",
    "- when arithmatic operation is applied on **int,** **float** and **bool** then the output is numeric.\n",
    "- str + int --- concatination\n",
    "- str + str --- string concatination\n",
    "- list + list --- list concatination\n",
    "- tuple + tuple --- tuple concatination\n",
    "- multiplication means adding multiple times. *e.g- \"sam\" * 3 = \"sam\" + \"sam\" + \"sam\" = \"samsamsam\"*\n",
    "- when we divides anything with zero it dosent give infinity but *zerodivisionerror*."
   ]
  },
  {
   "cell_type": "markdown",
   "id": "f5889a6a",
   "metadata": {},
   "source": [
    "### **2. Assignment Operators**\n",
    "used to assign the values.\n",
    "1. = --------- or *x = 10*\n",
    "2. += --------- or *x = x + 10* \n",
    "3. -= --------- or *x = x - 10*\n",
    "4. *= --------- or *x = x * 10*\n",
    "5. /= --------- or *x = x / 10*\n",
    "6. //= --------- or *x = x // 10*\n",
    "7. %= --------- or *x = x % 10*"
   ]
  },
  {
   "cell_type": "markdown",
   "id": "9e340537",
   "metadata": {},
   "source": [
    "### **3. Comparision Operators**\n",
    "use to compare the values not datatypes and returns output as bool value.\n",
    "1. (equal to) ==\n",
    "2. (not equal to) !=\n",
    "3. (greater than) >\n",
    "4. (greater than equal to) >=\n",
    "5. (less than) <\n",
    "6. (less than equal to) <="
   ]
  },
  {
   "cell_type": "code",
   "execution_count": 1,
   "id": "6ffaf7df",
   "metadata": {},
   "outputs": [
    {
     "name": "stdout",
     "output_type": "stream",
     "text": [
      "True\n",
      "False\n",
      "False\n"
     ]
    }
   ],
   "source": [
    "# concepts\n",
    "print(10==10.0)  #Both are numbers eventually thats why True.\n",
    "print(10==\"10\")  #One is number and other is text in python understanding thats why it is False.\n",
    "print(type(10)==type(10.0))\n",
    "#print(10=10) #give syntax error as it is a assigment operator."
   ]
  },
  {
   "cell_type": "markdown",
   "id": "f2e28383",
   "metadata": {},
   "source": [
    "### **4.Logical Operators**\n",
    "use to apply multiple condition, and return output as bool value.\n",
    "1. and --- all conditions must be True\n",
    "2. or --- atleat one conditions has to be True\n",
    "3. not --- opposite true to false and false to true\n",
    "\n",
    "- precedence order is **not** > **and** > **or**"
   ]
  },
  {
   "cell_type": "code",
   "execution_count": null,
   "id": "71d5ccce",
   "metadata": {},
   "outputs": [
    {
     "data": {
      "text/plain": [
       "True"
      ]
     },
     "execution_count": 2,
     "metadata": {},
     "output_type": "execute_result"
    }
   ],
   "source": [
    "6>5 and 4<5 or 2>5 and not True\n",
    "#True and True or False and False\n",
    "#True or False\n",
    "#True\n",
    "\n",
    "# when solving this type of question always first comparison operator do there works then logical operator follow there precedence."
   ]
  },
  {
   "cell_type": "markdown",
   "id": "01f01620",
   "metadata": {},
   "source": [
    "### **4. Identity Operators**\n",
    "check whether both indicates to same object or not.\n",
    "1. is\n",
    "2. is not"
   ]
  },
  {
   "cell_type": "code",
   "execution_count": null,
   "id": "84abd8fb",
   "metadata": {},
   "outputs": [
    {
     "name": "stdout",
     "output_type": "stream",
     "text": [
      "True\n",
      "True\n"
     ]
    }
   ],
   "source": [
    "a=[1, 2, 3]\n",
    "b=a #deep copy\n",
    "print(a==b)\n",
    "print(a is b)  #means id(a) == id(b) "
   ]
  },
  {
   "cell_type": "code",
   "execution_count": null,
   "id": "82a38d80",
   "metadata": {},
   "outputs": [
    {
     "name": "stdout",
     "output_type": "stream",
     "text": [
      "True\n",
      "True\n"
     ]
    }
   ],
   "source": [
    "a=[1, 2, 3]\n",
    "b=a.copy() #shallow copy\n",
    "print(a==b)\n",
    "print(a is not b) #means id(a) != id(b)"
   ]
  },
  {
   "cell_type": "markdown",
   "id": "841e2b4a",
   "metadata": {},
   "source": [
    "### **5. Membership Operators**\n",
    "check wheather the value is member or not and return output as bool value.\n",
    "1. in \n",
    "2. not in"
   ]
  },
  {
   "cell_type": "code",
   "execution_count": 8,
   "id": "e918ecb5",
   "metadata": {},
   "outputs": [
    {
     "name": "stdout",
     "output_type": "stream",
     "text": [
      "False\n",
      "True\n"
     ]
    }
   ],
   "source": [
    "print(9 in [1,2,3])\n",
    "print(9 not in [1,2,3])"
   ]
  }
 ],
 "metadata": {
  "kernelspec": {
   "display_name": ".venv",
   "language": "python",
   "name": "python3"
  },
  "language_info": {
   "codemirror_mode": {
    "name": "ipython",
    "version": 3
   },
   "file_extension": ".py",
   "mimetype": "text/x-python",
   "name": "python",
   "nbconvert_exporter": "python",
   "pygments_lexer": "ipython3",
   "version": "3.13.1"
  }
 },
 "nbformat": 4,
 "nbformat_minor": 5
}
