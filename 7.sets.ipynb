{
 "cells": [
  {
   "cell_type": "markdown",
   "id": "34932340",
   "metadata": {},
   "source": [
    "# SETS\n",
    "- empty set is print as **set()** not as {}.\n",
    "- for **indexing** and **slicing**, we need to first convert it into list or tuple as set dont have indexing.\n",
    "- we can do modification like add, remove but cant replace items as it dont have indexing.\n",
    "- set concatination is not possible, as it automatically remove duplicates and **'+' is used for ordered sequences (like lists, strings, tuples)**.\n",
    "- nested set is not possible as it only allow immutable datatypes."
   ]
  },
  {
   "cell_type": "code",
   "execution_count": 11,
   "id": "10910702",
   "metadata": {},
   "outputs": [
    {
     "name": "stdout",
     "output_type": "stream",
     "text": [
      "[3, 1, (4, 5), 2]\n",
      "(4, 5)\n",
      "[3, 1, (4, 5)]\n"
     ]
    }
   ],
   "source": [
    "# extraction\n",
    "s={1,2,3,(4,5)}\n",
    "print(list(s))\n",
    "print(list(s)[2])\n",
    "print(list(s)[0:3])\n",
    "# when we want order (or sequence) first we need to print the conveted set then only extraction is done based on the converted set indexing."
   ]
  },
  {
   "cell_type": "markdown",
   "id": "46cf0a3a",
   "metadata": {},
   "source": [
    "### **sets methods**\n",
    "1. .add()\n",
    "2. .update()\n",
    "3. .remove()\n",
    "4. .discard()\n",
    "5. .clear()\n",
    "6. .deep coppy\n",
    "7. .shallow copy\n",
    "8. .intersection()\n",
    "9. .union()\n",
    "10. .difference()\n",
    "11. .symmetric_difference()\n",
    "12. .isdisjoint()\n",
    "13. .issubset()\n",
    "14. .issuperset()\n",
    "\n",
    "- whenever in methods if we want to add single item we write inside () e.g- s.add(3) and if we want to add multiple item we write insite ([]) e.g- s.update([2,3]).\n",
    "\n",
    "- whenever any modification is done and store in original object printing of that modication will not be done, and if the modification is printing then storing will not done, always either one is possible a time.\n",
    "\n",
    "- whenever a method start with .is then its result will always will in boolean value."
   ]
  },
  {
   "cell_type": "code",
   "execution_count": 3,
   "id": "7577b0be",
   "metadata": {},
   "outputs": [
    {
     "name": "stdout",
     "output_type": "stream",
     "text": [
      "{1, 2, 3, 4}\n"
     ]
    }
   ],
   "source": [
    "# add() - add single value\n",
    "s1={1,2,3}\n",
    "s1.add(4)\n",
    "print(s1)"
   ]
  },
  {
   "cell_type": "code",
   "execution_count": null,
   "id": "22de5360",
   "metadata": {},
   "outputs": [
    {
     "name": "stdout",
     "output_type": "stream",
     "text": [
      "{1, 2, 3, 4, 5, 6}\n"
     ]
    }
   ],
   "source": [
    "# update() - add multiple value\n",
    "s2={1,2,3}\n",
    "s2.update([4,5,6])\n",
    "print(s2)"
   ]
  },
  {
   "cell_type": "code",
   "execution_count": 3,
   "id": "54c3d592",
   "metadata": {},
   "outputs": [
    {
     "name": "stdout",
     "output_type": "stream",
     "text": [
      "{1, 3}\n"
     ]
    }
   ],
   "source": [
    "# remove()- remove the single item from set\n",
    "s3={1,2,3}\n",
    "s3.remove(2)\n",
    "print(s3)"
   ]
  },
  {
   "cell_type": "code",
   "execution_count": null,
   "id": "92af97e8",
   "metadata": {},
   "outputs": [
    {
     "name": "stdout",
     "output_type": "stream",
     "text": [
      "{1, 2, 3}\n"
     ]
    }
   ],
   "source": [
    "# discard()- no differnce compare to remove but only one exception when th given item is unavailable it dosent throw error unlike remove().\n",
    "s4={1,2,3}\n",
    "s4.discard(4)\n",
    "print(s4)"
   ]
  },
  {
   "cell_type": "code",
   "execution_count": null,
   "id": "0624946c",
   "metadata": {},
   "outputs": [
    {
     "name": "stdout",
     "output_type": "stream",
     "text": [
      "set()\n"
     ]
    }
   ],
   "source": [
    "# clear()- claer all the items of the set and give empty set.\n",
    "s5={1,2,3,4,5}\n",
    "s5.clear()\n",
    "print(s5)"
   ]
  },
  {
   "cell_type": "code",
   "execution_count": 14,
   "id": "dec9be5a",
   "metadata": {},
   "outputs": [
    {
     "name": "stdout",
     "output_type": "stream",
     "text": [
      "{1, 2, 3}\n",
      "{1, 2, 3}\n"
     ]
    }
   ],
   "source": [
    "# deep copy\n",
    "s6={1,2}\n",
    "s7=s6\n",
    "s7.add(3)\n",
    "print(s6)\n",
    "print(s7)"
   ]
  },
  {
   "cell_type": "code",
   "execution_count": 16,
   "id": "ba7bf2ef",
   "metadata": {},
   "outputs": [
    {
     "name": "stdout",
     "output_type": "stream",
     "text": [
      "{1, 2, 3, 4}\n",
      "{1, 2, 3, 4, 5}\n"
     ]
    }
   ],
   "source": [
    "# shallow copy\n",
    "s8={1,2,3,4}\n",
    "s9=s8.copy()\n",
    "s9.add(5)\n",
    "print(s8)\n",
    "print(s9)"
   ]
  },
  {
   "cell_type": "code",
   "execution_count": null,
   "id": "15fb716b",
   "metadata": {},
   "outputs": [
    {
     "data": {
      "text/plain": [
       "{3, 4}"
      ]
     },
     "execution_count": 17,
     "metadata": {},
     "output_type": "execute_result"
    }
   ],
   "source": [
    "# intersection() - give the common itemes\n",
    "s10={1,2,3,4}\n",
    "s11={3,4,5}\n",
    "s10.intersection(s11)"
   ]
  },
  {
   "cell_type": "code",
   "execution_count": null,
   "id": "34caf785",
   "metadata": {},
   "outputs": [
    {
     "data": {
      "text/plain": [
       "{1, 2, 3, 4, 5, 6}"
      ]
     },
     "execution_count": 18,
     "metadata": {},
     "output_type": "execute_result"
    }
   ],
   "source": [
    "# union() - act as concatination\n",
    "s12={1,2,3}\n",
    "s13={4,5,6}\n",
    "s12.union(s13)"
   ]
  },
  {
   "cell_type": "code",
   "execution_count": 19,
   "id": "e636ca54",
   "metadata": {},
   "outputs": [
    {
     "data": {
      "text/plain": [
       "{3}"
      ]
     },
     "execution_count": 19,
     "metadata": {},
     "output_type": "execute_result"
    }
   ],
   "source": [
    "# symmetric_difference()\n",
    "s14={1,2,3}\n",
    "s15={1,2}\n",
    "s14.symmetric_difference(s15)"
   ]
  },
  {
   "cell_type": "code",
   "execution_count": null,
   "id": "50109ee6",
   "metadata": {},
   "outputs": [
    {
     "data": {
      "text/plain": [
       "True"
      ]
     },
     "execution_count": 20,
     "metadata": {},
     "output_type": "execute_result"
    }
   ],
   "source": [
    "# isdisjoint() - disjoint mean different sets\n",
    "s16={1,2,3}\n",
    "s17={4,5,6}\n",
    "s16.isdisjoint(s17)"
   ]
  },
  {
   "cell_type": "code",
   "execution_count": null,
   "id": "a4526f20",
   "metadata": {},
   "outputs": [
    {
     "name": "stdout",
     "output_type": "stream",
     "text": [
      "True\n",
      "False\n"
     ]
    }
   ],
   "source": [
    "# issubset() - set A is called a subset of another set B if every element in A is also in B.\n",
    "s18={1,2}\n",
    "s19={1,2,3,4}\n",
    "print(s18.issubset(s19))\n",
    "print(s19.issubset(s18))"
   ]
  },
  {
   "cell_type": "code",
   "execution_count": null,
   "id": "104a297c",
   "metadata": {},
   "outputs": [
    {
     "name": "stdout",
     "output_type": "stream",
     "text": [
      "False\n",
      "True\n"
     ]
    }
   ],
   "source": [
    "# issuperset() - set A is called a superset of another set B if A contains every element of B.\n",
    "s20={11,22}\n",
    "s21={11,22,33}\n",
    "print(s20.issuperset(s21))\n",
    "print(s21.issuperset(s20))"
   ]
  }
 ],
 "metadata": {
  "kernelspec": {
   "display_name": "Python 3",
   "language": "python",
   "name": "python3"
  },
  "language_info": {
   "codemirror_mode": {
    "name": "ipython",
    "version": 3
   },
   "file_extension": ".py",
   "mimetype": "text/x-python",
   "name": "python",
   "nbconvert_exporter": "python",
   "pygments_lexer": "ipython3",
   "version": "3.10.16"
  }
 },
 "nbformat": 4,
 "nbformat_minor": 5
}
