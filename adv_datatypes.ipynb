{
 "cells": [
  {
   "cell_type": "markdown",
   "id": "39d35400",
   "metadata": {},
   "source": [
    "# ADVANCE DATATYPES\n",
    "\n",
    "- They are those datatypes which can store multiple values in a single object. \n",
    "- values are called as items. \n",
    "- Include: **list**, **tuple**, **set**, and **dictionary**.\n",
    "\n",
    "#### Order of Learning Them\n",
    "\n",
    "1. **Creation Part**\n",
    "    - Empty\n",
    "    - With Values\n",
    "2. **Extraction Part**\n",
    "    - Single Value\n",
    "    - Multiple Values\n",
    "3. **Application Part**\n",
    "\n",
    "------------------------------------------------------------------------------------------------------------------------------------------------------"
   ]
  },
  {
   "cell_type": "markdown",
   "id": "80c92cbb",
   "metadata": {},
   "source": [
    "#### LIST \n",
    "- CREATION :-\n",
    "    - in list duplicate values are allowed.\n",
    "    - data is stored in the same sequencial order.\n",
    "    - can hold any datatypes as values.\n",
    "\n",
    "------------------------------------------------------------------------------------------------------------------------------------------------------"
   ]
  },
  {
   "cell_type": "code",
   "execution_count": 26,
   "id": "6751ede4",
   "metadata": {},
   "outputs": [
    {
     "name": "stdout",
     "output_type": "stream",
     "text": [
      "[] []\n",
      "[1, 2, 3, 4] [1, 2, 1, 2, 3, 4] [1, 'sam', 2.55, True, [1, 2], (3, 4)]\n",
      "[1, 2, [3, 4, [5], 6], 7, 8]\n"
     ]
    }
   ],
   "source": [
    "# empty list\n",
    "l1=[]\n",
    "l2=list() #using list-of function\n",
    "print(l1 , l2)\n",
    "\n",
    "# with values\n",
    "l3=[1,2,3,4] # follows order\n",
    "l4=[1,2,1,2,3,4] # allow duplicates\n",
    "l5=[1,\"sam\",2.55,True,[1,2],(3,4)] # holds any datatypes\n",
    "print(l3, l4, l5)\n",
    "\n",
    "# nestead list\n",
    "l6=[1,2,[3,4,[5],6],7,8]  # means can hold list inside a list.\n",
    "print(l6)"
   ]
  },
  {
   "cell_type": "markdown",
   "id": "2b41fa32",
   "metadata": {},
   "source": [
    "#### TUPLE \n",
    "- CREATION:- \n",
    "    - It have all the same properties as in list but only difference instead of using [] it uses ().\n",
    "\n",
    "------------------------------------------------------------------------------------------------------------------------------------------------------"
   ]
  },
  {
   "cell_type": "code",
   "execution_count": 11,
   "id": "1381280a",
   "metadata": {},
   "outputs": [
    {
     "name": "stdout",
     "output_type": "stream",
     "text": [
      "() ()\n",
      "(1, 2, 3, 4) (1, 2, 1, 2, 3, 4) (1, 'sam', 2.55, False, (1, 2), {3, 4})\n",
      "(1, 2, (3, 4), 5)\n"
     ]
    }
   ],
   "source": [
    "# empty tuple\n",
    "t1=()\n",
    "t2=tuple()\n",
    "print(t1, t2)\n",
    "\n",
    "# with values\n",
    "t3=(1,2,3,4) # follow order\n",
    "t4=(1,2,1,2,3,4) # allow duplicates\n",
    "t5=(1,\"sam\",2.55,False,(1,2),{3,4}) # holds all datatypes\n",
    "print(t3, t4, t5)\n",
    "\n",
    "# nested tuple\n",
    "t6=(1,2,(3,4),5)\n",
    "print(t6)"
   ]
  },
  {
   "cell_type": "markdown",
   "id": "82d4f052",
   "metadata": {},
   "source": [
    "#### SETS \n",
    "- CREATIONS :-\n",
    "    - can hold only immutable datatypes.\n",
    "    - dosent allow duplication of values.\n",
    "    - the order of which the values are present is not preserved thus indexind is not possible.\n",
    "    - no concept od nested set as it itself is mutable data type.\n",
    "\n",
    "------------------------------------------------------------------------------------------------------------------------------------------------------"
   ]
  },
  {
   "cell_type": "code",
   "execution_count": 24,
   "id": "36748c7f",
   "metadata": {},
   "outputs": [
    {
     "name": "stdout",
     "output_type": "stream",
     "text": [
      "{} set()\n",
      "{1, 2.2, 4} {'sam', 1, (1, 2), 1.5} {1, 2, 3, 4}\n"
     ]
    },
    {
     "data": {
      "text/plain": [
       "'s6={1,2,{3,4}}\\nprint(s6)'"
      ]
     },
     "execution_count": 24,
     "metadata": {},
     "output_type": "execute_result"
    }
   ],
   "source": [
    "# empty set\n",
    "s1={}\n",
    "s2=set()\n",
    "print(s1, s2)\n",
    "type(s1) # can't create empty set using {} as it show datatype dictionary.\n",
    "\n",
    "# with values\n",
    "s3={1,4,2.2} # not follow order\n",
    "s4={1,\"sam\",True,1.5,(1,2)} # holds only immutable datatypes\n",
    "s5={1,2,3,4,1,2} # not allow duplicates\n",
    "print(s3, s4, s5)\n",
    "\n",
    "#nested set\n",
    "'''s6={1,2,{3,4}}\n",
    "print(s6)'''  # not possible as it itself is mutable datatype"
   ]
  },
  {
   "cell_type": "markdown",
   "id": "5a4b1a4c",
   "metadata": {},
   "source": [
    "#### DICTIONARY \n",
    "- CREATION\n",
    "    - follow sequencial order\n",
    "    - values can be duplicated.\n",
    "    - keys can't be dupliacate and if it does the latest value is stored and the previous value will be deleted.\n",
    "    - keys can only hold immutable datatypes.\n",
    "    - values can hold any datatypes.\n",
    "\n",
    "------------------------------------------------------------------------------------------------------------------------------------------------------\n",
    "    "
   ]
  },
  {
   "cell_type": "code",
   "execution_count": null,
   "id": "c8b38e7e",
   "metadata": {},
   "outputs": [
    {
     "name": "stdout",
     "output_type": "stream",
     "text": [
      "{} {}\n",
      "{'a': 1, 'b': 2, 'c': 3} {'a': 40, 'b': 2, 'c': 3} {'a': 11, 2: 10, True: 1, 1.5: 3} {1: 1, 2: 'sam', 3: False, 4: 4.1, 5: [1, 2], 6: (3, 4), 7: {5, 6}, 8: {'a': 1}}\n",
      "{1: 'a', 2: {'b': 'c'}, 3: 'd'}\n"
     ]
    }
   ],
   "source": [
    "# empty dict\n",
    "d1={}\n",
    "d2=dict()\n",
    "print(d1, d2)\n",
    "\n",
    "# with value\n",
    "d3={'a':1, 'b':2, 'c':3} # follow order\n",
    "d4={'a':1, 'b':2, 'a':40, 'c':3} # keys can't be dupliacate but values can.\n",
    "d5={'a':11, 2:10, True:1, 1.5:3} # keys can be immutable datatypes\n",
    "d6={1:1, 2:\"sam\", 3:False, 4:4.1, 5:[1,2], 6:(3,4), 7:{5,6}, 8:{'a':1}} # values can store any datatypes\n",
    "print(d3, d4, d5, d6)\n",
    "\n",
    "#nestead dict\n",
    "d7={1:'a', 2:{'b':'c'}, 3:'d'}\n",
    "print(d7) # within dictionary if the values is dictionary"
   ]
  }
 ],
 "metadata": {
  "kernelspec": {
   "display_name": "Python 3",
   "language": "python",
   "name": "python3"
  },
  "language_info": {
   "codemirror_mode": {
    "name": "ipython",
    "version": 3
   },
   "file_extension": ".py",
   "mimetype": "text/x-python",
   "name": "python",
   "nbconvert_exporter": "python",
   "pygments_lexer": "ipython3",
   "version": "3.12.8"
  }
 },
 "nbformat": 4,
 "nbformat_minor": 5
}
