{
 "cells": [
  {
   "cell_type": "markdown",
   "id": "2a861ef6",
   "metadata": {},
   "source": [
    "## **Module Function**\n",
    "- Types:\n",
    "    - **Inbuilt modules** - math, random, etc \n",
    "    - **user define modules**\n",
    "- a module is just a .py file in which we can define multiple functions, variables and classes by following the python syntax.\n",
    "- we can use the **import statement** to bring this module into another file.\n",
    "- for user define module only whatever module you wanna import should be in working directory.\n",
    "\n",
    "- Various Possibilities of import:\n",
    "\n",
    "    1. import modulename\n",
    "    2. import module1, module2, module3\n",
    "    3. import module1 as m\n",
    "    4. import module1 as m1, module2 as m2, module3\n",
    "    5. from module import member\n",
    "    6. from module import member1, member2, member3  \n",
    "    7. from module import member1 as x\n",
    "    8. from module import * \n",
    "\n",
    "- We can access members by using module name\n",
    "\n",
    "    1. modulename.variable\n",
    "    2. modulename.function()"
   ]
  },
  {
   "cell_type": "markdown",
   "id": "2d9d988e",
   "metadata": {},
   "source": [
    "#### **user define module**"
   ]
  },
  {
   "cell_type": "code",
   "execution_count": 1,
   "id": "66c23c24",
   "metadata": {},
   "outputs": [],
   "source": [
    "import module"
   ]
  },
  {
   "cell_type": "code",
   "execution_count": 2,
   "id": "c075a5a0",
   "metadata": {},
   "outputs": [
    {
     "data": {
      "text/plain": [
       "5"
      ]
     },
     "execution_count": 2,
     "metadata": {},
     "output_type": "execute_result"
    }
   ],
   "source": [
    "module.add(1,4)"
   ]
  },
  {
   "cell_type": "code",
   "execution_count": 4,
   "id": "b226b999",
   "metadata": {},
   "outputs": [
    {
     "data": {
      "text/plain": [
       "6"
      ]
     },
     "execution_count": 4,
     "metadata": {},
     "output_type": "execute_result"
    }
   ],
   "source": [
    "module.sub(10,4)"
   ]
  },
  {
   "cell_type": "code",
   "execution_count": 11,
   "id": "9620af91",
   "metadata": {},
   "outputs": [
    {
     "data": {
      "text/plain": [
       "[1, 2, 3]"
      ]
     },
     "execution_count": 11,
     "metadata": {},
     "output_type": "execute_result"
    }
   ],
   "source": [
    "x=module.l\n",
    "x[0:3]"
   ]
  }
 ],
 "metadata": {
  "kernelspec": {
   "display_name": "Python 3",
   "language": "python",
   "name": "python3"
  },
  "language_info": {
   "codemirror_mode": {
    "name": "ipython",
    "version": 3
   },
   "file_extension": ".py",
   "mimetype": "text/x-python",
   "name": "python",
   "nbconvert_exporter": "python",
   "pygments_lexer": "ipython3",
   "version": "3.10.16"
  }
 },
 "nbformat": 4,
 "nbformat_minor": 5
}
