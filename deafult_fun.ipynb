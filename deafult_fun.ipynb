{
 "cells": [
  {
   "cell_type": "markdown",
   "id": "42cd6fb6",
   "metadata": {},
   "source": [
    "## DEAFULT FUNCTIONS\n",
    "1. **print()** - used to print output.\n",
    "\n",
    "2. **input()** - used to take input from user.\n",
    "\n",
    "3. **min()** - give the minimum value.\n",
    "\n",
    "4. **max()** - give the maximun value.\n",
    "\n",
    "5. **sorted()** - return list of sorted values.\n",
    "\n",
    "6. **eval()**\n",
    "\n",
    "7. **id()**\n",
    "\n",
    "8. **sum()** -  sum of all the item\n",
    "\n",
    "9. **set()** - remove duplicate value\n",
    "\n",
    "10. **range()** - give list of number between the given range - range(start=0(included), end, steps=1(excluded))---> deafult"
   ]
  },
  {
   "cell_type": "markdown",
   "id": "0105f4cc",
   "metadata": {},
   "source": []
  }
 ],
 "metadata": {
  "language_info": {
   "name": "python"
  }
 },
 "nbformat": 4,
 "nbformat_minor": 5
}
