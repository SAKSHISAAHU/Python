{
 "cells": [
  {
   "cell_type": "markdown",
   "id": "42cd6fb6",
   "metadata": {},
   "source": [
    "## DEAFULT FUNCTIONS\n",
    "**abs()** - return absolute value or modulus of a number -- +ve value\n",
    "\n",
    "**eval()**\n",
    "\n",
    "**id()**\n",
    "\n",
    "**input()** - used to take input from user\n",
    "\n",
    "**max()** - give the maximun value.\n",
    "\n",
    "**min()** - give the minimum value.\n",
    "\n",
    "**pow()** - return base ** exponantial ---> 2 arguments (base, exponantial)\n",
    "\n",
    "**print()** - used to print output.\n",
    "\n",
    "**range()** - give list of number between the given range - range(start=0(included), end, steps=1(excluded))---> deafult\n",
    "\n",
    "**set()** - remove duplicate value\n",
    "\n",
    "**sorted()** - return list of sorted values.\n",
    "\n",
    "**sum()** -  sum of all the item"
   ]
  },
  {
   "cell_type": "markdown",
   "id": "0105f4cc",
   "metadata": {},
   "source": []
  }
 ],
 "metadata": {
  "language_info": {
   "name": "python"
  }
 },
 "nbformat": 4,
 "nbformat_minor": 5
}
