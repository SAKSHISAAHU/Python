{
 "cells": [
  {
   "cell_type": "markdown",
   "id": "42cd6fb6",
   "metadata": {},
   "source": [
    "## DEAFULT FUNCTIONS\n",
    "1. print() - used to print output.\n",
    "\n",
    "2. input() - used to take input from user.\n",
    "\n",
    "3. min() - give the minimum value.\n",
    "\n",
    "4. max() - give the maximun value.\n",
    "\n",
    "5. sorted() - return list of sorted values.\n",
    "\n",
    "6. eval()\n",
    "\n",
    "7. id()"
   ]
  },
  {
   "cell_type": "markdown",
   "id": "12322aa4",
   "metadata": {},
   "source": []
  }
 ],
 "metadata": {
  "language_info": {
   "name": "python"
  }
 },
 "nbformat": 4,
 "nbformat_minor": 5
}
