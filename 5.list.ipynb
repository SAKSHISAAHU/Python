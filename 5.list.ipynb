{
 "cells": [
  {
   "cell_type": "markdown",
   "id": "3b20df9e",
   "metadata": {},
   "source": [
    "# LIST\n",
    "it is mutable resprented using[ ].\n",
    "1. extraction\n",
    "- indexing\n",
    "- slicing \n",
    "- replace\n",
    "2. concationation \n",
    "3. methods"
   ]
  },
  {
   "cell_type": "markdown",
   "id": "28260661",
   "metadata": {},
   "source": [
    "### **List Extraction**\n"
   ]
  },
  {
   "cell_type": "code",
   "execution_count": 8,
   "id": "c0c306c9",
   "metadata": {},
   "outputs": [
    {
     "name": "stdout",
     "output_type": "stream",
     "text": [
      "20\n",
      "8\n",
      "hello\n",
      "ll\n"
     ]
    }
   ],
   "source": [
    "# indexing\n",
    "l1=[10,20,40]\n",
    "print(l1[1])\n",
    "\n",
    "# nested indexing\n",
    "l2=[11,12,13,[8,9]]\n",
    "print(l2[3][0])\n",
    "\n",
    "l3=[1,2,[3,4,[\"hello\"]]]\n",
    "print(l3[2][2][0])\n",
    "print(l3[2][2][0][2:4])"
   ]
  },
  {
   "cell_type": "code",
   "execution_count": 11,
   "id": "cf1463e4",
   "metadata": {},
   "outputs": [
    {
     "name": "stdout",
     "output_type": "stream",
     "text": [
      "[2, 3, 4, 5, 6]\n",
      "[11, [12, 14], 13]\n",
      "[]\n"
     ]
    }
   ],
   "source": [
    "# slicing\n",
    "l1=[1,2,3,4,5,6]\n",
    "print(l1[1:6])\n",
    "\n",
    "l2=[10,11,[12,14],13]\n",
    "print(l2[1:])\n",
    "print(l2[-1:-5])"
   ]
  },
  {
   "cell_type": "code",
   "execution_count": 26,
   "id": "7d0c62db",
   "metadata": {},
   "outputs": [
    {
     "name": "stdout",
     "output_type": "stream",
     "text": [
      "[2, 6, 3, 7]\n"
     ]
    }
   ],
   "source": [
    "# replace\n",
    "l=[2,6,3,9]\n",
    "l[3]=7\n",
    "print(l)"
   ]
  },
  {
   "cell_type": "markdown",
   "id": "75ebf794",
   "metadata": {},
   "source": [
    "### **List Concatination**"
   ]
  },
  {
   "cell_type": "code",
   "execution_count": 14,
   "id": "930590eb",
   "metadata": {},
   "outputs": [
    {
     "name": "stdout",
     "output_type": "stream",
     "text": [
      "[1, 2, 3, 4, 5, 6]\n"
     ]
    }
   ],
   "source": [
    "l1=[1,2,3]\n",
    "l2=[4,5,6]\n",
    "print(l1+l2)\n",
    "\n",
    "a=10\n",
    "b=[1,2,3]\n",
    "# print(a+b) # int + list concat is not possible "
   ]
  },
  {
   "cell_type": "markdown",
   "id": "0069226e",
   "metadata": {},
   "source": [
    "### **List Methods**\n",
    "1. .append()\n",
    "2. .extend()\n",
    "3. .insert()\n",
    "4. .remove()\n",
    "5. .pop()\n",
    "6. .clear()\n",
    "7. .reverse()\n",
    "8. .sort()\n",
    "9. .index()\n",
    "10. .count()\n",
    "11. .copy() - shallow copy\n",
    "12. deep copy"
   ]
  },
  {
   "cell_type": "code",
   "execution_count": 20,
   "id": "eb4afeed",
   "metadata": {},
   "outputs": [
    {
     "name": "stdout",
     "output_type": "stream",
     "text": [
      "[1, 2, 3, 4]\n",
      "[1, 2, [3, 4, 5]]\n"
     ]
    }
   ],
   "source": [
    "# .append()- use to add single item in the list to the last.\n",
    "l=[1,2,3]\n",
    "l.append(4) # single item is add using () only\n",
    "print(l) # we have to manually write print coz as it is a mutable type it do modification in original object so, both assigning and printing cant be done together.\n",
    "\n",
    "l1=[1,2]\n",
    "l1.append([3,4,5]) # treat as a single item as it is a list.\n",
    "print(l1)"
   ]
  },
  {
   "cell_type": "code",
   "execution_count": 19,
   "id": "c330ee1d",
   "metadata": {},
   "outputs": [
    {
     "name": "stdout",
     "output_type": "stream",
     "text": [
      "[1, 2, 3, 4, 5, 6]\n"
     ]
    }
   ],
   "source": [
    "# .extend()- used to add multiple item in the list at the last.\n",
    "l=[1,2,3]\n",
    "l.extend([4,5,6]) # multiple item is add with the the help of [] inside ().\n",
    "print(l)"
   ]
  },
  {
   "cell_type": "code",
   "execution_count": 24,
   "id": "8f16ad48",
   "metadata": {},
   "outputs": [
    {
     "name": "stdout",
     "output_type": "stream",
     "text": [
      "[5, 4, 3, 2, 1]\n"
     ]
    }
   ],
   "source": [
    "# .insert() - used to add a value at a specific index\n",
    "l=[5,4,2,1]\n",
    "l.insert(2,3)\n",
    "print(l)"
   ]
  },
  {
   "cell_type": "code",
   "execution_count": 27,
   "id": "163b936f",
   "metadata": {},
   "outputs": [
    {
     "name": "stdout",
     "output_type": "stream",
     "text": [
      "[1, 2, 3, 4]\n"
     ]
    }
   ],
   "source": [
    "# .remove() - used to remove value using values\n",
    "l=[1,2,10,3,4]\n",
    "l.remove(10)\n",
    "print(l)"
   ]
  },
  {
   "cell_type": "code",
   "execution_count": 28,
   "id": "0d5e79f4",
   "metadata": {},
   "outputs": [
    {
     "name": "stdout",
     "output_type": "stream",
     "text": [
      "[1, 2, 3, 4]\n"
     ]
    }
   ],
   "source": [
    "# .pop() - used to remove value using index no.\n",
    "l=[1,2,10,3,4]\n",
    "l.pop(2)\n",
    "print(l)"
   ]
  },
  {
   "cell_type": "code",
   "execution_count": 29,
   "id": "e46f9138",
   "metadata": {},
   "outputs": [
    {
     "name": "stdout",
     "output_type": "stream",
     "text": [
      "[]\n"
     ]
    }
   ],
   "source": [
    "# .clear() - used to clear all the items and return emptu list.\n",
    "l=[1,2,10,3,4]\n",
    "l.clear()\n",
    "print(l)"
   ]
  },
  {
   "cell_type": "code",
   "execution_count": 32,
   "id": "4fa4dcee",
   "metadata": {},
   "outputs": [
    {
     "name": "stdout",
     "output_type": "stream",
     "text": [
      "[6, 10, 8, 2, 4]\n"
     ]
    }
   ],
   "source": [
    "# .reverse() - used to reverse the list\n",
    "l=[4,2,8,10,6]\n",
    "l.reverse()\n",
    "print(l)"
   ]
  },
  {
   "cell_type": "code",
   "execution_count": 34,
   "id": "be01a49a",
   "metadata": {},
   "outputs": [
    {
     "name": "stdout",
     "output_type": "stream",
     "text": [
      "[2, 4, 6, 8, 10]\n",
      "[11, 9, 7, 5, 3, 1]\n"
     ]
    }
   ],
   "source": [
    "# .sort() - used to sort in the accending order.\n",
    "l=[4,2,8,10,6]\n",
    "l.sort()\n",
    "print(l)\n",
    "\n",
    "# reverse sorting\n",
    "l=[3,1,7,5,11,9]\n",
    "l.sort(reverse=True)\n",
    "print(l)"
   ]
  },
  {
   "cell_type": "code",
   "execution_count": 35,
   "id": "9776534f",
   "metadata": {},
   "outputs": [
    {
     "data": {
      "text/plain": [
       "3"
      ]
     },
     "execution_count": 35,
     "metadata": {},
     "output_type": "execute_result"
    }
   ],
   "source": [
    "# .index() - used to give the index of the item.\n",
    "l=[4,2,8,10,6]\n",
    "l.index(10)"
   ]
  },
  {
   "cell_type": "code",
   "execution_count": 36,
   "id": "ff27f7c0",
   "metadata": {},
   "outputs": [
    {
     "data": {
      "text/plain": [
       "0"
      ]
     },
     "execution_count": 36,
     "metadata": {},
     "output_type": "execute_result"
    }
   ],
   "source": [
    "# .count()\n",
    "l=[4,2,8,10,6,10]\n",
    "l.count(11)\n"
   ]
  },
  {
   "cell_type": "code",
   "execution_count": 39,
   "id": "aa5a2cc7",
   "metadata": {},
   "outputs": [
    {
     "name": "stdout",
     "output_type": "stream",
     "text": [
      "[1, 2, 3]\n",
      "[1, 2]\n"
     ]
    }
   ],
   "source": [
    "# .copy() - shallow copy\n",
    "a=[1,2]\n",
    "b=a.copy()\n",
    "b.append(3)\n",
    "print(b)\n",
    "print(a)"
   ]
  },
  {
   "cell_type": "code",
   "execution_count": 40,
   "id": "cf66febf",
   "metadata": {},
   "outputs": [
    {
     "name": "stdout",
     "output_type": "stream",
     "text": [
      "[1, 2, 3]\n",
      "[1, 2, 3]\n"
     ]
    }
   ],
   "source": [
    "# deep copy\n",
    "a=[1,2]\n",
    "b=a\n",
    "b.append(3)\n",
    "print(b)\n",
    "print(a)"
   ]
  }
 ],
 "metadata": {
  "kernelspec": {
   "display_name": "Python 3",
   "language": "python",
   "name": "python3"
  },
  "language_info": {
   "codemirror_mode": {
    "name": "ipython",
    "version": 3
   },
   "file_extension": ".py",
   "mimetype": "text/x-python",
   "name": "python",
   "nbconvert_exporter": "python",
   "pygments_lexer": "ipython3",
   "version": "3.10.16"
  }
 },
 "nbformat": 4,
 "nbformat_minor": 5
}
