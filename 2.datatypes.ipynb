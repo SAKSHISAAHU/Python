{
 "cells": [
  {
   "cell_type": "markdown",
   "id": "d1fa5263",
   "metadata": {},
   "source": [
    "# DATATYPES and TYPECASTING and FUNCTIONAL PROGRAMMING"
   ]
  },
  {
   "cell_type": "markdown",
   "id": "e415a7ab",
   "metadata": {},
   "source": [
    "### DATATYPES\n",
    "Variables can hold data or values for differnt types.\n",
    "- types :\n",
    "    - Fundamental - can store only single value in a single object.\n",
    "        1. Integer          (immutable)\n",
    "        2. String           (immutable)   \n",
    "        3. Boolean          (immutable)\n",
    "        4. Float            (immutable)\n",
    "    - Advance - can store multiple values in a single object.\n",
    "        1. List             (mutable)\n",
    "        2. Tuple            (immutable)\n",
    "        3. Set              (mutable)\n",
    "        4. Dictionary       (mutable)\n",
    "\n",
    "### type() function - used to check the datatype of variable."
   ]
  },
  {
   "cell_type": "code",
   "execution_count": 39,
   "id": "989dae8c",
   "metadata": {},
   "outputs": [
    {
     "name": "stdout",
     "output_type": "stream",
     "text": [
      "<class 'int'>\n",
      "<class 'str'>\n",
      "<class 'bool'>\n",
      "<class 'float'>\n"
     ]
    }
   ],
   "source": [
    "a=10\n",
    "print(type(a))\n",
    "\n",
    "b=\"sakshi\"\n",
    "print(type(b))\n",
    "\n",
    "c=True\n",
    "print(type(c))\n",
    "\n",
    "d=2.0\n",
    "print(type(d))"
   ]
  },
  {
   "cell_type": "markdown",
   "id": "1174e064",
   "metadata": {},
   "source": [
    "### TYPECASTING\n",
    "Converting one datatype to another.\n",
    "- int() - converts to integer.\n",
    "- float() - converts to float\n",
    "- str() - converts to string.\n",
    "- bool() - converts to bool.\n",
    "    - In bool 0 and \"\" (empty string) is consider as false and remaining everything is true including space. "
   ]
  },
  {
   "cell_type": "code",
   "execution_count": 36,
   "id": "17293658",
   "metadata": {},
   "outputs": [
    {
     "name": "stdout",
     "output_type": "stream",
     "text": [
      "-1\n",
      "True\n",
      "14.5\n"
     ]
    },
    {
     "data": {
      "text/plain": [
       "str"
      ]
     },
     "execution_count": 36,
     "metadata": {},
     "output_type": "execute_result"
    }
   ],
   "source": [
    "print(int(-1.95))\n",
    "\n",
    "print(bool(12))\n",
    "\n",
    "c=str(14.5)\n",
    "print(c)\n",
    "type(c)  #datatype will be string not integer."
   ]
  },
  {
   "cell_type": "markdown",
   "id": "654c6815",
   "metadata": {},
   "source": [
    "### FUNCTIONAL PROGRAMMING\n",
    "- supported by python\n",
    "- when within a function there is an another function.\n",
    "- the inner brackets will execute firts followed by outer."
   ]
  },
  {
   "cell_type": "code",
   "execution_count": 23,
   "id": "a58dea46",
   "metadata": {},
   "outputs": [
    {
     "data": {
      "text/plain": [
       "1"
      ]
     },
     "execution_count": 23,
     "metadata": {},
     "output_type": "execute_result"
    }
   ],
   "source": [
    "a=10\n",
    "int(float(bool(a)))"
   ]
  },
  {
   "cell_type": "code",
   "execution_count": 35,
   "id": "6b797025",
   "metadata": {},
   "outputs": [
    {
     "name": "stdout",
     "output_type": "stream",
     "text": [
      "2\n"
     ]
    },
    {
     "data": {
      "text/plain": [
       "1.0"
      ]
     },
     "execution_count": 35,
     "metadata": {},
     "output_type": "execute_result"
    }
   ],
   "source": [
    "print(int(2.5))\n",
    "\n",
    "float(1)"
   ]
  }
 ],
 "metadata": {
  "kernelspec": {
   "display_name": "Python 3",
   "language": "python",
   "name": "python3"
  },
  "language_info": {
   "codemirror_mode": {
    "name": "ipython",
    "version": 3
   },
   "file_extension": ".py",
   "mimetype": "text/x-python",
   "name": "python",
   "nbconvert_exporter": "python",
   "pygments_lexer": "ipython3",
   "version": "3.10.16"
  }
 },
 "nbformat": 4,
 "nbformat_minor": 5
}
