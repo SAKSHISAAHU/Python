{
 "cells": [
  {
   "cell_type": "markdown",
   "id": "29d7969b",
   "metadata": {},
   "source": [
    "## FUNCTIONS\n",
    "- a function is a reusable block of code that is used to perform specific task.\n",
    "- every function will,  take input + execute internal code + return output\n",
    "\n",
    "### Types of functions :\n",
    "1. builtin or inbuilt function (by deafult, anyone can use)\n",
    "2. user define function (present of user only)\n",
    "3. moducle function"
   ]
  },
  {
   "cell_type": "markdown",
   "id": "cc577c6c",
   "metadata": {},
   "source": [
    "### **Return Statement:**\n",
    "- return sends a result back from the function.\n",
    "- functions without return return None by default."
   ]
  },
  {
   "cell_type": "code",
   "execution_count": null,
   "id": "19cda3ea",
   "metadata": {},
   "outputs": [
    {
     "name": "stdout",
     "output_type": "stream",
     "text": [
      "7\n"
     ]
    }
   ],
   "source": [
    "def add(a,b):\n",
    "    c=a+b\n",
    "    return c\n",
    "\n",
    "x=add(6,1)\n",
    "print(x)"
   ]
  },
  {
   "cell_type": "code",
   "execution_count": 21,
   "id": "4a4f9cf4",
   "metadata": {},
   "outputs": [
    {
     "name": "stdout",
     "output_type": "stream",
     "text": [
      "7\n",
      "None\n"
     ]
    }
   ],
   "source": [
    "def add(a,b):\n",
    "    c=a+b\n",
    "    print(c)\n",
    "\n",
    "x=add(6,1)\n",
    "print(x)"
   ]
  },
  {
   "cell_type": "markdown",
   "id": "410759f4",
   "metadata": {},
   "source": [
    "- In 1st block return is used, so when we call the function the right side part will execute (as always) which is 7 that will store in x and then printing of x is done.\n",
    "\n",
    "- In 2nd block print is used, here also right part will execute then store the value but when we print x it give 'None' coz add(6,1) have the **printed value** of c which then store in x. so x cant again print the printed value thats why it give **None** while printing x."
   ]
  },
  {
   "cell_type": "markdown",
   "id": "14c188c4",
   "metadata": {},
   "source": [
    "### **1. Built-in Function**\n",
    "Already provided by Python.\n",
    "- Examples: print(), len(), type(), range(), int()"
   ]
  },
  {
   "cell_type": "markdown",
   "id": "b45ae373",
   "metadata": {},
   "source": [
    "### **2. User Define Function**\n",
    "Created by the user using the **def** keyword.\n",
    "\n",
    "*Syntax* -\n",
    "- for defining function \n",
    "    <pre>\n",
    "    def function_name(parameter/input):\n",
    "        \"\"\"Optional docstring\"\"\"\n",
    "        internal code\n",
    "        return output/value\n",
    "    <pre>\n",
    "\n",
    "- for calling function\n",
    "    <pre>\n",
    "    function_name(argument)\n",
    "    <pre>\n",
    "\n",
    "- arguments that takes input values called parameters."
   ]
  },
  {
   "cell_type": "markdown",
   "id": "675b4048",
   "metadata": {},
   "source": [
    "### **2.1 Function Without Argument**"
   ]
  },
  {
   "cell_type": "code",
   "execution_count": 1,
   "id": "f43cc863",
   "metadata": {},
   "outputs": [
    {
     "name": "stdout",
     "output_type": "stream",
     "text": [
      "Hello\n"
     ]
    }
   ],
   "source": [
    "def greet():\n",
    "    print(\"Hello\")\n",
    "\n",
    "greet()"
   ]
  },
  {
   "cell_type": "markdown",
   "id": "78232aed",
   "metadata": {},
   "source": [
    "### **2.2 Function With Argument**\n",
    "1. positional argument\n",
    "2. keyword argument\n",
    "3. deafult argument\n",
    "4. arbitary argument"
   ]
  },
  {
   "cell_type": "markdown",
   "id": "5434c151",
   "metadata": {},
   "source": [
    "#### **2.2.1 Positional Argument**\n",
    "Parameters should must be passed in the correct position/order."
   ]
  },
  {
   "cell_type": "code",
   "execution_count": null,
   "id": "3164b386",
   "metadata": {},
   "outputs": [
    {
     "data": {
      "text/plain": [
       "12"
      ]
     },
     "execution_count": 2,
     "metadata": {},
     "output_type": "execute_result"
    }
   ],
   "source": [
    "# with one argument\n",
    "def add(n):\n",
    "    a,b=10,20\n",
    "    c=a+n\n",
    "    return c\n",
    "\n",
    "add(2)"
   ]
  },
  {
   "cell_type": "code",
   "execution_count": 6,
   "id": "96c27088",
   "metadata": {},
   "outputs": [
    {
     "data": {
      "text/plain": [
       "40"
      ]
     },
     "execution_count": 6,
     "metadata": {},
     "output_type": "execute_result"
    }
   ],
   "source": [
    "# with two argument\n",
    "def sum(a,b):\n",
    "    c=a+b\n",
    "    return c\n",
    "\n",
    "sum(10,30)"
   ]
  },
  {
   "cell_type": "markdown",
   "id": "2ebc9895",
   "metadata": {},
   "source": [
    "#### **2.2.2 Keyword Argument**\n",
    "- When calling a function, you can pass arguments as **parameter = value**.\n",
    "- here order is not important."
   ]
  },
  {
   "cell_type": "code",
   "execution_count": 7,
   "id": "dd6d3f1c",
   "metadata": {},
   "outputs": [
    {
     "data": {
      "text/plain": [
       "10"
      ]
     },
     "execution_count": 7,
     "metadata": {},
     "output_type": "execute_result"
    }
   ],
   "source": [
    "def mul(a,b):\n",
    "    c=a*b\n",
    "    return c\n",
    "\n",
    "mul(b=2, a=5) # order not important"
   ]
  },
  {
   "cell_type": "markdown",
   "id": "a4fa5fe5",
   "metadata": {},
   "source": [
    "#### **2.2.3 Deafult Argument**\n",
    "You can assign a default value to a parameter. If the caller doesn't provide it, the default is used."
   ]
  },
  {
   "cell_type": "code",
   "execution_count": 10,
   "id": "33102599",
   "metadata": {},
   "outputs": [
    {
     "name": "stdout",
     "output_type": "stream",
     "text": [
      "1\n",
      "6\n"
     ]
    }
   ],
   "source": [
    "def sub(a,b=4):\n",
    "    c=a-b\n",
    "    return c\n",
    "\n",
    "print(sub(5))\n",
    "print(sub(9,3))"
   ]
  },
  {
   "cell_type": "code",
   "execution_count": 14,
   "id": "7901aa51",
   "metadata": {},
   "outputs": [
    {
     "name": "stdout",
     "output_type": "stream",
     "text": [
      "hello joy good mrng\n",
      "hello sam how are you?\n"
     ]
    }
   ],
   "source": [
    "def greet(name, msg=\"good mrng\"):\n",
    "    print(\"hello\", name, msg)\n",
    "\n",
    "greet(\"joy\")\n",
    "greet(\"sam\", \"how are you?\")"
   ]
  },
  {
   "cell_type": "markdown",
   "id": "a1ce0bf3",
   "metadata": {},
   "source": [
    "#### **2.2.4 Arbitary Argument**\n",
    "Use *args to accept any number of positional arguments as a tuple."
   ]
  },
  {
   "cell_type": "code",
   "execution_count": 25,
   "id": "7919554d",
   "metadata": {},
   "outputs": [
    {
     "name": "stdout",
     "output_type": "stream",
     "text": [
      "hello sam\n",
      "hello joy\n",
      "hello apek\n"
     ]
    }
   ],
   "source": [
    "def greet(*n):\n",
    "    for i in n:\n",
    "        print(\"hello\",i)\n",
    "\n",
    "greet(\"sam\",\"joy\",\"apek\")"
   ]
  }
 ],
 "metadata": {
  "kernelspec": {
   "display_name": "Python 3",
   "language": "python",
   "name": "python3"
  },
  "language_info": {
   "codemirror_mode": {
    "name": "ipython",
    "version": 3
   },
   "file_extension": ".py",
   "mimetype": "text/x-python",
   "name": "python",
   "nbconvert_exporter": "python",
   "pygments_lexer": "ipython3",
   "version": "3.10.16"
  }
 },
 "nbformat": 4,
 "nbformat_minor": 5
}
