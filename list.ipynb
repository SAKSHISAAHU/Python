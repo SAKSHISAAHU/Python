{
 "cells": [
  {
   "cell_type": "markdown",
   "id": "3b20df9e",
   "metadata": {},
   "source": [
    "# LIST\n",
    "it is mutable resprented using[ ].\n",
    "- extraction\n",
    "- slicing\n",
    "- concationation \n",
    "- methods"
   ]
  },
  {
   "cell_type": "markdown",
   "id": "28260661",
   "metadata": {},
   "source": [
    "#### LIST EXTRACTION\n"
   ]
  },
  {
   "cell_type": "code",
   "execution_count": null,
   "id": "c0c306c9",
   "metadata": {},
   "outputs": [],
   "source": []
  }
 ],
 "metadata": {
  "kernelspec": {
   "display_name": "Python 3",
   "language": "python",
   "name": "python3"
  },
  "language_info": {
   "name": "python",
   "version": "3.10.16"
  }
 },
 "nbformat": 4,
 "nbformat_minor": 5
}
